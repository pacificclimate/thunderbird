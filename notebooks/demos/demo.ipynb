{
 "cells": [
  {
   "cell_type": "markdown",
   "metadata": {},
   "source": [
    "# Thunderbird Demo\n",
    "This notebook take you through the process of spinning up an instance of `thunderbird` and shows you how to use it.\n",
    "\n",
    "## Environment\n",
    "We need to set up two different environments to run this test.\n",
    "\n",
    "### Birdy\n",
    "First we need to set up a `birdy` environment using `conda`.\n",
    "```\n",
    "$ conda install -c conda-forge birdy\n",
    "$ conda activate birdy\n",
    "```\n",
    "\n",
    "### Thunderbird\n",
    "Next, we need to setup the thunderbird environment.\n",
    "```\n",
    "# in the thunderbird repo\n",
    "$ python3 -m venv venv\n",
    "$ source venv/bin/activate\n",
    "(venv)$ pip install -i https://pypi.pacificclimate.org/simple/ -r requirements.txt\n",
    "(venv)$ pip install .\n",
    "```\n",
    "\n",
    "**Note:** In order to run `thunderbird` a few packages will also need to be installed.\n",
    "```\n",
    "$ sudo apt-get update && apt-get install -y build-essential cdo libhdf5-serial-dev netcdf-bin libnetcdf-dev\n",
    "```\n",
    "\n",
    "## Run\n",
    "Launch `jupyter notebook` from the `birdy` env like so:\n",
    "```\n",
    "$ conda activate birdy\n",
    "(birdy)$ jupyter notebook\n",
    "```\n",
    "This allows us to import the module needed to use the `PyWPS` application.\n",
    "\n",
    "Next run the `thunderbird` application from the `venv` we created earlier.\n",
    "```\n",
    "(venv)$ thunderbird start\n",
    "```\n",
    "\n",
    "Now you can run the cells below. "
   ]
  },
  {
   "cell_type": "code",
   "execution_count": 1,
   "metadata": {},
   "outputs": [
    {
     "ename": "ModuleNotFoundError",
     "evalue": "No module named 'birdy'",
     "output_type": "error",
     "traceback": [
      "\u001b[0;31m---------------------------------------------------------------------------\u001b[0m",
      "\u001b[0;31mModuleNotFoundError\u001b[0m                       Traceback (most recent call last)",
      "\u001b[0;32m<ipython-input-1-449e97a49036>\u001b[0m in \u001b[0;36m<module>\u001b[0;34m\u001b[0m\n\u001b[1;32m      1\u001b[0m \u001b[0;31m# Import the WPS client and connet to the server\u001b[0m\u001b[0;34m\u001b[0m\u001b[0;34m\u001b[0m\u001b[0;34m\u001b[0m\u001b[0m\n\u001b[0;32m----> 2\u001b[0;31m \u001b[0;32mfrom\u001b[0m \u001b[0mbirdy\u001b[0m \u001b[0;32mimport\u001b[0m \u001b[0mWPSClient\u001b[0m\u001b[0;34m\u001b[0m\u001b[0;34m\u001b[0m\u001b[0m\n\u001b[0m\u001b[1;32m      3\u001b[0m \u001b[0;32mimport\u001b[0m \u001b[0mbirdy\u001b[0m\u001b[0;34m\u001b[0m\u001b[0;34m\u001b[0m\u001b[0m\n",
      "\u001b[0;31mModuleNotFoundError\u001b[0m: No module named 'birdy'"
     ]
    }
   ],
   "source": [
    "# Import the WPS client and connet to the server\n",
    "from birdy import WPSClient\n",
    "import birdy"
   ]
  },
  {
   "cell_type": "code",
   "execution_count": null,
   "metadata": {},
   "outputs": [],
   "source": [
    "# Set up the application\n",
    "thunderbird_server = 'http://localhost:5001/wps'\n",
    "thunderbird = WPSClient(url=thunderbird_server, progress=True)"
   ]
  },
  {
   "cell_type": "code",
   "execution_count": null,
   "metadata": {},
   "outputs": [],
   "source": [
    "# Check what processes are available\n",
    "thunderbird._processes"
   ]
  },
  {
   "cell_type": "code",
   "execution_count": null,
   "metadata": {},
   "outputs": [],
   "source": [
    "# Check info on `hello` process\n",
    "help(thunderbird.hello)"
   ]
  },
  {
   "cell_type": "code",
   "execution_count": null,
   "metadata": {},
   "outputs": [],
   "source": [
    "# Run the process\n",
    "hello = thunderbird.hello(name='Foo')"
   ]
  },
  {
   "cell_type": "code",
   "execution_count": null,
   "metadata": {},
   "outputs": [],
   "source": [
    "hello.get()[0]"
   ]
  },
  {
   "cell_type": "code",
   "execution_count": null,
   "metadata": {},
   "outputs": [],
   "source": [
    "# Check info on `generate_climos` process\n",
    "help(thunderbird.generate_climos)"
   ]
  },
  {
   "cell_type": "code",
   "execution_count": null,
   "metadata": {},
   "outputs": [],
   "source": [
    "# Dry run the process\n",
    "netcdf = '/home/nrados/data/tasmax_day_BCCAQv2+ANUSPLIN300_HadGEM2-CC_historical+rcp85_r1i1p1_19500101-19510101.nc'\n",
    "operation = 'mean'\n",
    "climo = '6190'\n",
    "resolutions = 'yearly'\n",
    "dry_run = True\n",
    "\n",
    "dry_output = thunderbird.generate_climos(netcdf=netcdf, operation=operation, climo=climo, resolutions=resolutions, dry_run=dry_run)"
   ]
  },
  {
   "cell_type": "code",
   "execution_count": null,
   "metadata": {},
   "outputs": [],
   "source": [
    "# Output of this process is a file so we'll need to get the file using requests\n",
    "import requests\n",
    "\n",
    "req = requests.get(dry_output.get()[0])\n",
    "for line in req.iter_lines():\n",
    "    print(line.decode('utf-8'))"
   ]
  },
  {
   "cell_type": "code",
   "execution_count": null,
   "metadata": {},
   "outputs": [],
   "source": [
    "# Generate Climatology\n",
    "gen_output = thunderbird.generate_climos(netcdf=netcdf, operation=operation, climo=climo, resolutions=resolutions, dry_run=False)"
   ]
  },
  {
   "cell_type": "code",
   "execution_count": null,
   "metadata": {},
   "outputs": [],
   "source": [
    "# Full output is a metalink4 file that needs to be decomposed\n",
    "import xml.etree.ElementTree as ET\n",
    "\n",
    "req = requests.get(gen_output.get()[0])\n",
    "tree = ET.parse(req.content)\n",
    "tree.getroot()"
   ]
  },
  {
   "cell_type": "code",
   "execution_count": null,
   "metadata": {},
   "outputs": [],
   "source": []
  }
 ],
 "metadata": {
  "kernelspec": {
   "display_name": "Python 3",
   "language": "python",
   "name": "python3"
  },
  "language_info": {
   "codemirror_mode": {
    "name": "ipython",
    "version": 3
   },
   "file_extension": ".py",
   "mimetype": "text/x-python",
   "name": "python",
   "nbconvert_exporter": "python",
   "pygments_lexer": "ipython3",
   "version": "3.8.2"
  }
 },
 "nbformat": 4,
 "nbformat_minor": 4
}
