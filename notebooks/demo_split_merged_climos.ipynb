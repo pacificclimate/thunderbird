{
 "cells": [
  {
   "cell_type": "markdown",
   "metadata": {},
   "source": [
    "# Split Merged Climos Thunderbird Demo"
   ]
  },
  {
   "cell_type": "code",
   "execution_count": 1,
   "metadata": {},
   "outputs": [],
   "source": [
    "from birdy import WPSClient\n",
    "import requests\n",
    "from pkg_resources import resource_filename"
   ]
  },
  {
   "cell_type": "code",
   "execution_count": 2,
   "metadata": {},
   "outputs": [],
   "source": [
    "# Set up wps application\n",
    "url = 'http://localhost:5001/wps'\n",
    "thunderbird = WPSClient(url=url)"
   ]
  },
  {
   "cell_type": "code",
   "execution_count": 3,
   "metadata": {},
   "outputs": [
    {
     "data": {
      "text/plain": [
       "\u001b[0;31mSignature:\u001b[0m \u001b[0mthunderbird\u001b[0m\u001b[0;34m.\u001b[0m\u001b[0msplit_merged_climos\u001b[0m\u001b[0;34m(\u001b[0m\u001b[0mnetcdf\u001b[0m\u001b[0;34m=\u001b[0m\u001b[0;32mNone\u001b[0m\u001b[0;34m,\u001b[0m \u001b[0mloglevel\u001b[0m\u001b[0;34m=\u001b[0m\u001b[0;34m'INFO'\u001b[0m\u001b[0;34m)\u001b[0m\u001b[0;34m\u001b[0m\u001b[0;34m\u001b[0m\u001b[0m\n",
       "\u001b[0;31mDocstring:\u001b[0m\n",
       "Create climatologies from CMIP5 data\n",
       "\n",
       "Parameters\n",
       "----------\n",
       "netcdf : ComplexData:mimetype:`application/x-netcdf`, :mimetype:`application/x-ogc-dods`\n",
       "    NetCDF files to process\n",
       "loglevel : {'NOTSET', 'DEBUG', 'INFO', 'WARNING', 'ERROR', 'CRITICAL'}string\n",
       "    Logging level\n",
       "\n",
       "Returns\n",
       "-------\n",
       "output : ComplexData:mimetype:`application/metalink+xml; version=4.0`\n",
       "    Collection of split climatological files\n",
       "\u001b[0;31mFile:\u001b[0m      ~/thunderbird/notebooks/</home/slim/thunderbird-venv/lib/python3.6/site-packages/birdy/client/base.py-3>\n",
       "\u001b[0;31mType:\u001b[0m      method\n"
      ]
     },
     "metadata": {},
     "output_type": "display_data"
    }
   ],
   "source": [
    "# Check info on `generate_prsn` process\n",
    "thunderbird.split_merged_climos?"
   ]
  },
  {
   "cell_type": "code",
   "execution_count": 4,
   "metadata": {},
   "outputs": [],
   "source": [
    "# Test single file\n",
    "climo_file_local = resource_filename('tests', 'data/tiny_hydromodel_gcm_climos.nc')\n",
    "output = thunderbird.split_merged_climos(climo_file_local)"
   ]
  },
  {
   "cell_type": "code",
   "execution_count": 5,
   "metadata": {},
   "outputs": [
    {
     "name": "stdout",
     "output_type": "stream",
     "text": [
      "<?xml version=\"1.0\" encoding=\"UTF-8\"?>\n",
      "<metalink xmlns=\"urn:ietf:params:xml:ns:metalink\">\n",
      "    <published>2020-06-19T15:48:41Z</published>\n",
      "    <generator>PyWPS/4.2.2</generator>\n",
      "\n",
      "    <file name=\"BASEFLOW+EVAP+GLAC_AREA_BAND+GLAC_MBAL_BAND+RUNOFF+SWE_BAND_mClim_VICGL+RGM+HydroCon_ACCESS1-0_historical+rcp45_r1i1p1_19840101-19951231.nc\">\n",
      "        <identity>/tmp/pywps_process_41tk3k7d/BASEFLOW+EVAP+GLAC_AREA_BAND+GLAC_MBAL_BAND+RUNOFF+SWE_BAND_mClim_VICGL+RGM+HydroCon_ACCESS1-0_historical+rcp45_r1i1p1_19840101-19951231.nc</identity>\n",
      "        <size>68531</size>\n",
      "        <metaurl mediatype=\"application/x-netcdf\">http://localhost:5001/outputs/05666571-b27f-11ea-afd0-c86000e3f2fd/BASEFLOW+EVAP+GLAC_AREA_BAND+GLAC_MBAL_BAND+RUNOFF+SWE_BAND_mClim_VICGL+RGM+HydroCon_ACCESS1-0_historical+rcp45_r1i1p1_19840101-19951231.nc</metaurl>\n",
      "        <publisher name=\"None\" url=\"http://localhost:5001/wps\"/>\n",
      "    </file>\n",
      "    <file name=\"BASEFLOW+EVAP+GLAC_AREA_BAND+GLAC_MBAL_BAND+RUNOFF+SWE_BAND_sClim_VICGL+RGM+HydroCon_ACCESS1-0_historical+rcp45_r1i1p1_19840101-19951231.nc\">\n",
      "        <identity>/tmp/pywps_process_41tk3k7d/BASEFLOW+EVAP+GLAC_AREA_BAND+GLAC_MBAL_BAND+RUNOFF+SWE_BAND_sClim_VICGL+RGM+HydroCon_ACCESS1-0_historical+rcp45_r1i1p1_19840101-19951231.nc</identity>\n",
      "        <size>67988</size>\n",
      "        <metaurl mediatype=\"application/x-netcdf\">http://localhost:5001/outputs/05666572-b27f-11ea-afd0-c86000e3f2fd/BASEFLOW+EVAP+GLAC_AREA_BAND+GLAC_MBAL_BAND+RUNOFF+SWE_BAND_sClim_VICGL+RGM+HydroCon_ACCESS1-0_historical+rcp45_r1i1p1_19840101-19951231.nc</metaurl>\n",
      "        <publisher name=\"None\" url=\"http://localhost:5001/wps\"/>\n",
      "    </file>\n",
      "    <file name=\"BASEFLOW+EVAP+GLAC_AREA_BAND+GLAC_MBAL_BAND+RUNOFF+SWE_BAND_aClim_VICGL+RGM+HydroCon_ACCESS1-0_historical+rcp45_r1i1p1_19840101-19951231.nc\">\n",
      "        <identity>/tmp/pywps_process_41tk3k7d/BASEFLOW+EVAP+GLAC_AREA_BAND+GLAC_MBAL_BAND+RUNOFF+SWE_BAND_aClim_VICGL+RGM+HydroCon_ACCESS1-0_historical+rcp45_r1i1p1_19840101-19951231.nc</identity>\n",
      "        <size>68063</size>\n",
      "        <metaurl mediatype=\"application/x-netcdf\">http://localhost:5001/outputs/05666573-b27f-11ea-afd0-c86000e3f2fd/BASEFLOW+EVAP+GLAC_AREA_BAND+GLAC_MBAL_BAND+RUNOFF+SWE_BAND_aClim_VICGL+RGM+HydroCon_ACCESS1-0_historical+rcp45_r1i1p1_19840101-19951231.nc</metaurl>\n",
      "        <publisher name=\"None\" url=\"http://localhost:5001/wps\"/>\n",
      "    </file>\n",
      "\n",
      "</metalink>\n"
     ]
    }
   ],
   "source": [
    "req = requests.get(output.get()[0])\n",
    "print(req.content.decode('utf-8'))"
   ]
  },
  {
   "cell_type": "code",
   "execution_count": 6,
   "metadata": {},
   "outputs": [],
   "source": [
    "# Test Multiple files\n",
    "climo_files_local = [resource_filename('tests', 'data/tiny_gcm_climos.nc'), resource_filename('tests', 'data/tiny_gcm_360_climos.nc'), \n",
    "                     resource_filename('tests', 'data/tiny_downscaled_tasmax_climos.nc'), resource_filename('tests', 'data/tiny_hydromodel_gcm_climos.nc')]\n",
    "output = thunderbird.split_merged_climos(climo_files_local)"
   ]
  },
  {
   "cell_type": "code",
   "execution_count": 7,
   "metadata": {},
   "outputs": [
    {
     "name": "stdout",
     "output_type": "stream",
     "text": [
      "<?xml version=\"1.0\" encoding=\"UTF-8\"?>\n",
      "<metalink xmlns=\"urn:ietf:params:xml:ns:metalink\">\n",
      "    <published>2020-06-19T15:48:42Z</published>\n",
      "    <generator>PyWPS/4.2.2</generator>\n",
      "\n",
      "    <file name=\"tasmax_mClim_BNU-ESM_historical_r1i1p1_19650101-19701231.nc\">\n",
      "        <identity>/tmp/pywps_process_qrchh_wk/tasmax_mClim_BNU-ESM_historical_r1i1p1_19650101-19701231.nc</identity>\n",
      "        <size>8172</size>\n",
      "        <metaurl mediatype=\"application/x-netcdf\">http://localhost:5001/outputs/05af79f5-b27f-11ea-afd0-c86000e3f2fd/tasmax_mClim_BNU-ESM_historical_r1i1p1_19650101-19701231.nc</metaurl>\n",
      "        <publisher name=\"None\" url=\"http://localhost:5001/wps\"/>\n",
      "    </file>\n",
      "    <file name=\"tasmax_sClim_BNU-ESM_historical_r1i1p1_19650101-19701231.nc\">\n",
      "        <identity>/tmp/pywps_process_qrchh_wk/tasmax_sClim_BNU-ESM_historical_r1i1p1_19650101-19701231.nc</identity>\n",
      "        <size>8156</size>\n",
      "        <metaurl mediatype=\"application/x-netcdf\">http://localhost:5001/outputs/05af79f6-b27f-11ea-afd0-c86000e3f2fd/tasmax_sClim_BNU-ESM_historical_r1i1p1_19650101-19701231.nc</metaurl>\n",
      "        <publisher name=\"None\" url=\"http://localhost:5001/wps\"/>\n",
      "    </file>\n",
      "    <file name=\"tasmax_aClim_BNU-ESM_historical_r1i1p1_19650101-19701231.nc\">\n",
      "        <identity>/tmp/pywps_process_qrchh_wk/tasmax_aClim_BNU-ESM_historical_r1i1p1_19650101-19701231.nc</identity>\n",
      "        <size>8148</size>\n",
      "        <metaurl mediatype=\"application/x-netcdf\">http://localhost:5001/outputs/05af79f7-b27f-11ea-afd0-c86000e3f2fd/tasmax_aClim_BNU-ESM_historical_r1i1p1_19650101-19701231.nc</metaurl>\n",
      "        <publisher name=\"None\" url=\"http://localhost:5001/wps\"/>\n",
      "    </file>\n",
      "    <file name=\"tasmin_mClim_HadCM3_historical_r1i1p1_19650101-19701230.nc\">\n",
      "        <identity>/tmp/pywps_process_qrchh_wk/tasmin_mClim_HadCM3_historical_r1i1p1_19650101-19701230.nc</identity>\n",
      "        <size>8192</size>\n",
      "        <metaurl mediatype=\"application/x-netcdf\">http://localhost:5001/outputs/05af79f8-b27f-11ea-afd0-c86000e3f2fd/tasmin_mClim_HadCM3_historical_r1i1p1_19650101-19701230.nc</metaurl>\n",
      "        <publisher name=\"None\" url=\"http://localhost:5001/wps\"/>\n",
      "    </file>\n",
      "    <file name=\"tasmin_sClim_HadCM3_historical_r1i1p1_19650101-19701230.nc\">\n",
      "        <identity>/tmp/pywps_process_qrchh_wk/tasmin_sClim_HadCM3_historical_r1i1p1_19650101-19701230.nc</identity>\n",
      "        <size>8188</size>\n",
      "        <metaurl mediatype=\"application/x-netcdf\">http://localhost:5001/outputs/05af79f9-b27f-11ea-afd0-c86000e3f2fd/tasmin_sClim_HadCM3_historical_r1i1p1_19650101-19701230.nc</metaurl>\n",
      "        <publisher name=\"None\" url=\"http://localhost:5001/wps\"/>\n",
      "    </file>\n",
      "    <file name=\"tasmin_aClim_HadCM3_historical_r1i1p1_19650101-19701230.nc\">\n",
      "        <identity>/tmp/pywps_process_qrchh_wk/tasmin_aClim_HadCM3_historical_r1i1p1_19650101-19701230.nc</identity>\n",
      "        <size>8180</size>\n",
      "        <metaurl mediatype=\"application/x-netcdf\">http://localhost:5001/outputs/05af79fa-b27f-11ea-afd0-c86000e3f2fd/tasmin_aClim_HadCM3_historical_r1i1p1_19650101-19701230.nc</metaurl>\n",
      "        <publisher name=\"None\" url=\"http://localhost:5001/wps\"/>\n",
      "    </file>\n",
      "    <file name=\"tasmax_mClim_BCCAQ2_ACCESS1-0_historical+rcp45_r1i1p1_19610101-19901231.nc\">\n",
      "        <identity>/tmp/pywps_process_qrchh_wk/tasmax_mClim_BCCAQ2_ACCESS1-0_historical+rcp45_r1i1p1_19610101-19901231.nc</identity>\n",
      "        <size>8164</size>\n",
      "        <metaurl mediatype=\"application/x-netcdf\">http://localhost:5001/outputs/05af79fb-b27f-11ea-afd0-c86000e3f2fd/tasmax_mClim_BCCAQ2_ACCESS1-0_historical+rcp45_r1i1p1_19610101-19901231.nc</metaurl>\n",
      "        <publisher name=\"None\" url=\"http://localhost:5001/wps\"/>\n",
      "    </file>\n",
      "    <file name=\"tasmax_sClim_BCCAQ2_ACCESS1-0_historical+rcp45_r1i1p1_19610101-19901231.nc\">\n",
      "        <identity>/tmp/pywps_process_qrchh_wk/tasmax_sClim_BCCAQ2_ACCESS1-0_historical+rcp45_r1i1p1_19610101-19901231.nc</identity>\n",
      "        <size>8152</size>\n",
      "        <metaurl mediatype=\"application/x-netcdf\">http://localhost:5001/outputs/05af79fc-b27f-11ea-afd0-c86000e3f2fd/tasmax_sClim_BCCAQ2_ACCESS1-0_historical+rcp45_r1i1p1_19610101-19901231.nc</metaurl>\n",
      "        <publisher name=\"None\" url=\"http://localhost:5001/wps\"/>\n",
      "    </file>\n",
      "    <file name=\"tasmax_aClim_BCCAQ2_ACCESS1-0_historical+rcp45_r1i1p1_19610101-19901231.nc\">\n",
      "        <identity>/tmp/pywps_process_qrchh_wk/tasmax_aClim_BCCAQ2_ACCESS1-0_historical+rcp45_r1i1p1_19610101-19901231.nc</identity>\n",
      "        <size>8140</size>\n",
      "        <metaurl mediatype=\"application/x-netcdf\">http://localhost:5001/outputs/05af79fd-b27f-11ea-afd0-c86000e3f2fd/tasmax_aClim_BCCAQ2_ACCESS1-0_historical+rcp45_r1i1p1_19610101-19901231.nc</metaurl>\n",
      "        <publisher name=\"None\" url=\"http://localhost:5001/wps\"/>\n",
      "    </file>\n",
      "    <file name=\"BASEFLOW+EVAP+GLAC_AREA_BAND+GLAC_MBAL_BAND+RUNOFF+SWE_BAND_mClim_VICGL+RGM+HydroCon_ACCESS1-0_historical+rcp45_r1i1p1_19840101-19951231.nc\">\n",
      "        <identity>/tmp/pywps_process_qrchh_wk/BASEFLOW+EVAP+GLAC_AREA_BAND+GLAC_MBAL_BAND+RUNOFF+SWE_BAND_mClim_VICGL+RGM+HydroCon_ACCESS1-0_historical+rcp45_r1i1p1_19840101-19951231.nc</identity>\n",
      "        <size>68531</size>\n",
      "        <metaurl mediatype=\"application/x-netcdf\">http://localhost:5001/outputs/05af79fe-b27f-11ea-afd0-c86000e3f2fd/BASEFLOW+EVAP+GLAC_AREA_BAND+GLAC_MBAL_BAND+RUNOFF+SWE_BAND_mClim_VICGL+RGM+HydroCon_ACCESS1-0_historical+rcp45_r1i1p1_19840101-19951231.nc</metaurl>\n",
      "        <publisher name=\"None\" url=\"http://localhost:5001/wps\"/>\n",
      "    </file>\n",
      "    <file name=\"BASEFLOW+EVAP+GLAC_AREA_BAND+GLAC_MBAL_BAND+RUNOFF+SWE_BAND_sClim_VICGL+RGM+HydroCon_ACCESS1-0_historical+rcp45_r1i1p1_19840101-19951231.nc\">\n",
      "        <identity>/tmp/pywps_process_qrchh_wk/BASEFLOW+EVAP+GLAC_AREA_BAND+GLAC_MBAL_BAND+RUNOFF+SWE_BAND_sClim_VICGL+RGM+HydroCon_ACCESS1-0_historical+rcp45_r1i1p1_19840101-19951231.nc</identity>\n",
      "        <size>67988</size>\n",
      "        <metaurl mediatype=\"application/x-netcdf\">http://localhost:5001/outputs/05af79ff-b27f-11ea-afd0-c86000e3f2fd/BASEFLOW+EVAP+GLAC_AREA_BAND+GLAC_MBAL_BAND+RUNOFF+SWE_BAND_sClim_VICGL+RGM+HydroCon_ACCESS1-0_historical+rcp45_r1i1p1_19840101-19951231.nc</metaurl>\n",
      "        <publisher name=\"None\" url=\"http://localhost:5001/wps\"/>\n",
      "    </file>\n",
      "    <file name=\"BASEFLOW+EVAP+GLAC_AREA_BAND+GLAC_MBAL_BAND+RUNOFF+SWE_BAND_aClim_VICGL+RGM+HydroCon_ACCESS1-0_historical+rcp45_r1i1p1_19840101-19951231.nc\">\n",
      "        <identity>/tmp/pywps_process_qrchh_wk/BASEFLOW+EVAP+GLAC_AREA_BAND+GLAC_MBAL_BAND+RUNOFF+SWE_BAND_aClim_VICGL+RGM+HydroCon_ACCESS1-0_historical+rcp45_r1i1p1_19840101-19951231.nc</identity>\n",
      "        <size>68063</size>\n",
      "        <metaurl mediatype=\"application/x-netcdf\">http://localhost:5001/outputs/05af7a00-b27f-11ea-afd0-c86000e3f2fd/BASEFLOW+EVAP+GLAC_AREA_BAND+GLAC_MBAL_BAND+RUNOFF+SWE_BAND_aClim_VICGL+RGM+HydroCon_ACCESS1-0_historical+rcp45_r1i1p1_19840101-19951231.nc</metaurl>\n",
      "        <publisher name=\"None\" url=\"http://localhost:5001/wps\"/>\n",
      "    </file>\n",
      "\n",
      "</metalink>\n"
     ]
    }
   ],
   "source": [
    "req = requests.get(output.get()[0])\n",
    "print(req.content.decode('utf-8'))"
   ]
  },
  {
   "cell_type": "code",
   "execution_count": null,
   "metadata": {},
   "outputs": [],
   "source": []
  }
 ],
 "metadata": {
  "kernelspec": {
   "display_name": "Python 3",
   "language": "python",
   "name": "python3"
  },
  "language_info": {
   "codemirror_mode": {
    "name": "ipython",
    "version": 3
   },
   "file_extension": ".py",
   "mimetype": "text/x-python",
   "name": "python",
   "nbconvert_exporter": "python",
   "pygments_lexer": "ipython3",
   "version": "3.6.9"
  }
 },
 "nbformat": 4,
 "nbformat_minor": 4
}
