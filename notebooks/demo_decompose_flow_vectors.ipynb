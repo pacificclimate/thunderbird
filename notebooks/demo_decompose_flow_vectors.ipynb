{
 "cells": [
  {
   "cell_type": "code",
   "execution_count": 25,
   "metadata": {},
   "outputs": [],
   "source": [
    "from birdy import WPSClient\n",
    "import requests"
   ]
  },
  {
   "cell_type": "code",
   "execution_count": 26,
   "metadata": {},
   "outputs": [],
   "source": [
    "# Set up wps application\n",
    "url = 'http://localhost:5001/wps'\n",
    "thunderbird = WPSClient(url=url)"
   ]
  },
  {
   "cell_type": "code",
   "execution_count": 27,
   "metadata": {},
   "outputs": [
    {
     "data": {
      "text/plain": [
       "\u001b[0;31mType:\u001b[0m            WPSClient\n",
       "\u001b[0;31mString form:\u001b[0m     <birdy.client.base.WPSClient object at 0x7fc6ef1ff590>\n",
       "\u001b[0;31mFile:\u001b[0m            ~/Desktop/thunderbird/venv/lib/python3.7/site-packages/birdy/client/base.py\n",
       "\u001b[0;31mDocstring:\u001b[0m      \n",
       "A Web Processing Service for Climate Explorer data preparation\n",
       "\n",
       "Processes\n",
       "---------\n",
       "\n",
       "generate_climos\n",
       "    Generate files containing climatological means from input files of daily, monthly, or yearly data that adhere to the PCIC metadata standard (and consequently to CMIP5 and CF standards).\n",
       "\n",
       "hello\n",
       "    Just says a friendly Hello.Returns a literal string output with Hello plus the inputed name.\n",
       "\n",
       "decompose_flow_vectors\n",
       "    Process an indexed flow direction netCDF into a vectored netCDF suitable for ncWMS display\n",
       "\u001b[0;31mClass docstring:\u001b[0m\n",
       "Returns a class where every public method is a WPS process available at\n",
       "the given url.\n",
       "\n",
       "Example:\n",
       "    >>> emu = WPSClient(url='<server url>')\n",
       "    >>> emu.hello('stranger')\n",
       "    'Hello stranger'\n",
       "\u001b[0;31mInit docstring:\u001b[0m \n",
       "Args:\n",
       "    url (str): Link to WPS provider. config (Config): an instance\n",
       "    processes: Specify a subset of processes to bind. Defaults to all\n",
       "        processes.\n",
       "    converters (dict): Correspondence of {mimetype: class} to convert\n",
       "        this mimetype to a python object.\n",
       "    username (str): passed to :class:`owslib.wps.WebProcessingService`\n",
       "    password (str): passed to :class:`owslib.wps.WebProcessingService`\n",
       "    headers (str): passed to :class:`owslib.wps.WebProcessingService`\n",
       "    auth (requests.auth.AuthBase): requests-style auth class to authenticate,\n",
       "        see https://2.python-requests.org/en/master/user/authentication/\n",
       "    verify (bool): passed to :class:`owslib.wps.WebProcessingService`\n",
       "    cert (str): passed to :class:`owslib.wps.WebProcessingService`\n",
       "    verbose (str): passed to :class:`owslib.wps.WebProcessingService`\n",
       "    progress (bool): If True, enable interactive user mode.\n",
       "    version (str): WPS version to use.\n"
      ]
     },
     "metadata": {},
     "output_type": "display_data"
    }
   ],
   "source": [
    "# Check wps info\n",
    "thunderbird?"
   ]
  },
  {
   "cell_type": "code",
   "execution_count": 36,
   "metadata": {},
   "outputs": [],
   "source": [
    "opendap = \"http://docker-dev03.pcic.uvic.ca:8083/twitcher/ows/proxy/thredds/dodsC/datasets/TestData/sample_flow_parameters.nc\"\n",
    "variable = \"Flow_Direction\"\n",
    "dest_file = \"output.nc\""
   ]
  },
  {
   "cell_type": "code",
   "execution_count": 37,
   "metadata": {},
   "outputs": [],
   "source": [
    "output = thunderbird.decompose_flow_vectors(\n",
    "    opendap=opendap, \n",
    "    variable=variable, \n",
    "    dest_file=dest_file, \n",
    ")"
   ]
  },
  {
   "cell_type": "code",
   "execution_count": 38,
   "metadata": {},
   "outputs": [
    {
     "data": {
      "text/plain": [
       "decompose_flow_vectorsResponse(\n",
       "    output='http://localhost:5001/outputs/0ee78d82-ac39-11ea-a969-503eaa25cee0/output.nc'\n",
       ")"
      ]
     },
     "execution_count": 38,
     "metadata": {},
     "output_type": "execute_result"
    }
   ],
   "source": [
    "output.get()"
   ]
  },
  {
   "cell_type": "code",
   "execution_count": null,
   "metadata": {},
   "outputs": [],
   "source": []
  }
 ],
 "metadata": {
  "kernelspec": {
   "display_name": "Python 3",
   "language": "python",
   "name": "python3"
  },
  "language_info": {
   "codemirror_mode": {
    "name": "ipython",
    "version": 3
   },
   "file_extension": ".py",
   "mimetype": "text/x-python",
   "name": "python",
   "nbconvert_exporter": "python",
   "pygments_lexer": "ipython3",
   "version": "3.7.5"
  }
 },
 "nbformat": 4,
 "nbformat_minor": 4
}
