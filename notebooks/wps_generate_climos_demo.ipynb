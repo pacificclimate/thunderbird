{
 "cells": [
  {
   "cell_type": "markdown",
   "metadata": {},
   "source": [
    "## Generate Climos"
   ]
  },
  {
   "cell_type": "markdown",
   "metadata": {},
   "source": [
    "This process runs [generate_climos](https://github.com/pacificclimate/climate-explorer-data-prep/blob/master/README.md#generate_climos-generate-climatological-means), which creates files with climatological means/standard deviations of input data from a netcdf file."
   ]
  },
  {
   "cell_type": "code",
   "execution_count": 1,
   "metadata": {},
   "outputs": [],
   "source": [
    "from birdy import WPSClient\n",
    "import requests\n",
    "import os\n",
    "from urllib.request import urlopen, urlretrieve\n",
    "from netCDF4 import Dataset\n",
    "from tempfile import NamedTemporaryFile\n",
    "from bs4 import BeautifulSoup\n",
    "import re\n",
    "from wps_tools.testing import get_target_url\n",
    "from wps_tools.output_handling import auto_construct_outputs, txt_to_string, get_metalink_content, nc_to_dataset"
   ]
  },
  {
   "cell_type": "code",
   "execution_count": 2,
   "metadata": {},
   "outputs": [
    {
     "name": "stdout",
     "output_type": "stream",
     "text": [
      "Using thunderbird on https://docker-dev03.pcic.uvic.ca/twitcher/ows/proxy/thunderbird/wps\n"
     ]
    }
   ],
   "source": [
    "# NBVAL_IGNORE_OUTPUT\n",
    "url = get_target_url(\"thunderbird\")\n",
    "print(f\"Using thunderbird on {url}\")"
   ]
  },
  {
   "cell_type": "code",
   "execution_count": 3,
   "metadata": {},
   "outputs": [],
   "source": [
    "thunderbird = WPSClient(url)"
   ]
  },
  {
   "cell_type": "code",
   "execution_count": 4,
   "metadata": {},
   "outputs": [
    {
     "data": {
      "text/plain": [
       "\u001b[0;31mSignature:\u001b[0m\n",
       "\u001b[0mthunderbird\u001b[0m\u001b[0;34m.\u001b[0m\u001b[0mgenerate_climos\u001b[0m\u001b[0;34m(\u001b[0m\u001b[0;34m\u001b[0m\n",
       "\u001b[0;34m\u001b[0m    \u001b[0mnetcdf\u001b[0m\u001b[0;34m,\u001b[0m\u001b[0;34m\u001b[0m\n",
       "\u001b[0;34m\u001b[0m    \u001b[0moperation\u001b[0m\u001b[0;34m,\u001b[0m\u001b[0;34m\u001b[0m\n",
       "\u001b[0;34m\u001b[0m    \u001b[0mdry_run\u001b[0m\u001b[0;34m=\u001b[0m\u001b[0;32mNone\u001b[0m\u001b[0;34m,\u001b[0m\u001b[0;34m\u001b[0m\n",
       "\u001b[0;34m\u001b[0m    \u001b[0mconvert_longitudes\u001b[0m\u001b[0;34m=\u001b[0m\u001b[0;32mTrue\u001b[0m\u001b[0;34m,\u001b[0m\u001b[0;34m\u001b[0m\n",
       "\u001b[0;34m\u001b[0m    \u001b[0msplit_vars\u001b[0m\u001b[0;34m=\u001b[0m\u001b[0;32mTrue\u001b[0m\u001b[0;34m,\u001b[0m\u001b[0;34m\u001b[0m\n",
       "\u001b[0;34m\u001b[0m    \u001b[0msplit_intervals\u001b[0m\u001b[0;34m=\u001b[0m\u001b[0;32mTrue\u001b[0m\u001b[0;34m,\u001b[0m\u001b[0;34m\u001b[0m\n",
       "\u001b[0;34m\u001b[0m    \u001b[0mloglevel\u001b[0m\u001b[0;34m=\u001b[0m\u001b[0;34m'INFO'\u001b[0m\u001b[0;34m,\u001b[0m\u001b[0;34m\u001b[0m\n",
       "\u001b[0;34m\u001b[0m    \u001b[0mclimo\u001b[0m\u001b[0;34m=\u001b[0m\u001b[0;32mNone\u001b[0m\u001b[0;34m,\u001b[0m\u001b[0;34m\u001b[0m\n",
       "\u001b[0;34m\u001b[0m    \u001b[0mresolutions\u001b[0m\u001b[0;34m=\u001b[0m\u001b[0;32mNone\u001b[0m\u001b[0;34m,\u001b[0m\u001b[0;34m\u001b[0m\n",
       "\u001b[0;34m\u001b[0m\u001b[0;34m)\u001b[0m\u001b[0;34m\u001b[0m\u001b[0;34m\u001b[0m\u001b[0m\n",
       "\u001b[0;31mDocstring:\u001b[0m\n",
       "Generate files containing climatological means from input files of daily, monthly, or yearly data that adhere to the PCIC metadata standard (and consequently to CMIP5 and CF standards).\n",
       "\n",
       "Parameters\n",
       "----------\n",
       "netcdf : ComplexData:mimetype:`application/x-netcdf`, :mimetype:`application/x-ogc-dods`\n",
       "    NetCDF file\n",
       "operation : {'mean', 'std'}string\n",
       "    Operation to perform on the datasets\n",
       "climo : {'6190', '7100', '8110', '2020', '2050', '2080'}string\n",
       "    Year ranges\n",
       "resolutions : {'all', 'yearly', 'seasonal', 'monthly'}string\n",
       "    Temporal Resolutions\n",
       "convert_longitudes : boolean\n",
       "    Transform longitude range from [0, 360) to [-180, 180)\n",
       "split_vars : boolean\n",
       "    Generate a separate file for each dependent variable in the file\n",
       "split_intervals : boolean\n",
       "    Generate a separate file for each climatological period\n",
       "dry_run : boolean\n",
       "    Checks file to ensure compatible with process\n",
       "loglevel : {'CRITICAL', 'ERROR', 'WARNING', 'INFO', 'DEBUG', 'NOTSET'}string\n",
       "    Logging level\n",
       "\n",
       "Returns\n",
       "-------\n",
       "output : ComplexData:mimetype:`application/metalink+xml; version=4.0`\n",
       "    Metalink object between output files\n",
       "dry_output : ComplexData:mimetype:`application/metalink+xml; version=4.0`\n",
       "    Metalink object between dry output files\n",
       "\u001b[0;31mFile:\u001b[0m      ~/code/birds/thunderbird/notebooks/</tmp/thunderbird-venv/lib/python3.8/site-packages/birdy/client/base.py-0>\n",
       "\u001b[0;31mType:\u001b[0m      method\n"
      ]
     },
     "metadata": {},
     "output_type": "display_data"
    }
   ],
   "source": [
    "# NBVAL_IGNORE_OUTPUT\n",
    "# Check info on `generate_climos` process\n",
    "thunderbird.generate_climos?"
   ]
  },
  {
   "cell_type": "markdown",
   "metadata": {},
   "source": [
    "## Single File run\n",
    "**Dry Run -** Checks file to ensure compatible with process"
   ]
  },
  {
   "cell_type": "code",
   "execution_count": 5,
   "metadata": {},
   "outputs": [
    {
     "data": {
      "text/plain": [
       "'http://localhost:5000/outputs/ab602d86-7ace-11eb-82d4-85fba3d3ed5b/input.meta4'"
      ]
     },
     "execution_count": 5,
     "metadata": {},
     "output_type": "execute_result"
    }
   ],
   "source": [
    "# Set up variables for thunderbird.generate_climos\n",
    "seasonal_opendap = 'https://docker-dev03.pcic.uvic.ca/twitcher/ows/proxy/thredds/dodsC/datasets/storage/data/projects/comp_support/daccs/test-data/fdd_seasonal_CanESM2_rcp85_r1i1p1_1951-2100.nc'\n",
    "annual_opendap = 'https://docker-dev03.pcic.uvic.ca/twitcher/ows/proxy/thredds/dodsC/datasets/storage/data/projects/comp_support/daccs/test-data/gdd_annual_CanESM2_rcp85_r1i1p1_1951-2100.nc'\n",
    "operation = 'mean'\n",
    "climo = '6190'\n",
    "resolutions = 'yearly'\n",
    "dry_run = True\n",
    "\n",
    "# Dry run process\n",
    "dry_output = thunderbird.generate_climos(\n",
    "    netcdf=seasonal_opendap, \n",
    "    operation=operation, \n",
    "    climo=climo, \n",
    "    resolutions=resolutions, \n",
    "    dry_run=dry_run\n",
    ")\n",
    "dry_output.get()[0]"
   ]
  },
  {
   "cell_type": "markdown",
   "metadata": {},
   "source": [
    "Access the output with **auto_construct_outputs()** or **get_metalink_content()** with **txt_to_string()** from wps_tools.output_handling"
   ]
  },
  {
   "cell_type": "code",
   "execution_count": 6,
   "metadata": {},
   "outputs": [
    {
     "data": {
      "text/plain": [
       "[\"Dry Run\\ngenerate_climos:\\nINFO:dp.generate_climos:Processing: https://docker-dev03.pcic.uvic.ca/twitcher/ows/proxy/thredds/dodsC/datasets/storage/data/projects/comp_support/daccs/test-data/fdd_seasonal_CanESM2_rcp85_r1i1p1_1951-2100.nc\\nINFO:dp.generate_climos:climo_periods: {'6190'}\\nINFO:dp.generate_climos:project: CMIP5\\nINFO:dp.generate_climos:institution: PCIC\\nINFO:dp.generate_climos:model: CanESM2\\nINFO:dp.generate_climos:emissions: historical, rcp85\\nINFO:dp.generate_climos:run: r1i1p1\\nINFO:dp.generate_climos:dependent_varnames: ['fdd']\\nINFO:dp.generate_climos:time_resolution: seasonal\\nINFO:dp.generate_climos:is_multi_year_mean: False\\n\"]"
      ]
     },
     "execution_count": 6,
     "metadata": {},
     "output_type": "execute_result"
    }
   ],
   "source": [
    "# NBVAL_IGNORE_OUTPUT\n",
    "auto_construct_outputs(dry_output.get())"
   ]
  },
  {
   "cell_type": "code",
   "execution_count": 7,
   "metadata": {},
   "outputs": [
    {
     "name": "stdout",
     "output_type": "stream",
     "text": [
      "['http://localhost:5000/outputs/ab602d87-7ace-11eb-82d4-85fba3d3ed5b/fdd_seasonal_CanESM2_rcp85_r1i1p1_1951-2100_dry.txt']\n",
      "Dry Run\n",
      "generate_climos:\n",
      "INFO:dp.generate_climos:Processing: https://docker-dev03.pcic.uvic.ca/twitcher/ows/proxy/thredds/dodsC/datasets/storage/data/projects/comp_support/daccs/test-data/fdd_seasonal_CanESM2_rcp85_r1i1p1_1951-2100.nc\n",
      "INFO:dp.generate_climos:climo_periods: {'6190'}\n",
      "INFO:dp.generate_climos:project: CMIP5\n",
      "INFO:dp.generate_climos:institution: PCIC\n",
      "INFO:dp.generate_climos:model: CanESM2\n",
      "INFO:dp.generate_climos:emissions: historical, rcp85\n",
      "INFO:dp.generate_climos:run: r1i1p1\n",
      "INFO:dp.generate_climos:dependent_varnames: ['fdd']\n",
      "INFO:dp.generate_climos:time_resolution: seasonal\n",
      "INFO:dp.generate_climos:is_multi_year_mean: False\n",
      "\n"
     ]
    }
   ],
   "source": [
    "# NBVAL_IGNORE_OUTPUT\n",
    "meta_content = get_metalink_content(dry_output.get()[0])\n",
    "print(meta_content)\n",
    "txt_content = txt_to_string(meta_content[0])\n",
    "print(txt_content)"
   ]
  },
  {
   "cell_type": "code",
   "execution_count": 8,
   "metadata": {},
   "outputs": [],
   "source": [
    "expected_items = ['6190', 'CMIP5', 'PCIC', 'CanESM2', 'historical', 'rcp85', 'r1i1p1', 'fdd', 'seasonal']\n",
    "for item in expected_items:\n",
    "    assert item in txt_content"
   ]
  },
  {
   "cell_type": "markdown",
   "metadata": {},
   "source": [
    "**Normal Run**"
   ]
  },
  {
   "cell_type": "code",
   "execution_count": 9,
   "metadata": {},
   "outputs": [],
   "source": [
    "# generate climos\n",
    "output = thunderbird.generate_climos(\n",
    "    netcdf=seasonal_opendap, \n",
    "    operation=operation, \n",
    "    climo=climo, \n",
    "    resolutions=resolutions, \n",
    "    dry_run=False\n",
    ")"
   ]
  },
  {
   "cell_type": "code",
   "execution_count": 10,
   "metadata": {},
   "outputs": [],
   "source": [
    "\"\"\" Helper function to test netCDF file output -\n",
    "Creating a 30 year average with this process given the parameters should squash the time \n",
    "dimension down from x (where x is the number of days in the input data) to 1 in the output data. \n",
    "\"\"\"\n",
    "def test_nc_data(url):\n",
    "    output_data = nc_to_dataset(url)\n",
    "    assert output_data.dimensions['time'].size == 1"
   ]
  },
  {
   "cell_type": "code",
   "execution_count": 11,
   "metadata": {},
   "outputs": [],
   "source": [
    "# Test normal output data\n",
    "url = get_metalink_content(output.get()[0])\n",
    "test_nc_data(url[0])"
   ]
  },
  {
   "cell_type": "markdown",
   "metadata": {},
   "source": [
    "## Multiple File Run\n",
    "**Dry Run -** Checks files to ensure compatible with process"
   ]
  },
  {
   "cell_type": "code",
   "execution_count": 12,
   "metadata": {},
   "outputs": [],
   "source": [
    "# process dry run for multiple files\n",
    "dry_output = thunderbird.generate_climos(\n",
    "    netcdf=[seasonal_opendap, annual_opendap], \n",
    "    operation=operation, \n",
    "    climo=climo, \n",
    "    resolutions=resolutions, \n",
    "    dry_run=dry_run\n",
    ")"
   ]
  },
  {
   "cell_type": "code",
   "execution_count": 13,
   "metadata": {},
   "outputs": [],
   "source": [
    "# Test dry output for multiple files\n",
    "metalinks = get_metalink_content(dry_output.get()[0])\n",
    "assert len(metalinks) == 2\n",
    "    \n",
    "for link, tr in zip(metalinks, ['seasonal', 'yearly']):\n",
    "    output_data = txt_to_string(link)\n",
    "    assert re.search(r'time_resolution: {}'.format(tr), output_data)"
   ]
  },
  {
   "cell_type": "markdown",
   "metadata": {},
   "source": [
    "**Normal Run**"
   ]
  },
  {
   "cell_type": "code",
   "execution_count": 14,
   "metadata": {},
   "outputs": [],
   "source": [
    "# Process normal output for multiple files\n",
    "\n",
    "output = thunderbird.generate_climos(\n",
    "    netcdf=[seasonal_opendap,annual_opendap], \n",
    "    operation=operation, \n",
    "    climo=climo, \n",
    "    resolutions=resolutions, \n",
    "    dry_run=False\n",
    ")"
   ]
  },
  {
   "cell_type": "code",
   "execution_count": 15,
   "metadata": {},
   "outputs": [],
   "source": [
    "# Test multiple files\n",
    "metalinks = get_metalink_content(output.get()[0])\n",
    "assert len(metalinks) == 2\n",
    "for url in metalinks:\n",
    "    test_nc_data(url)"
   ]
  }
 ],
 "metadata": {
  "kernelspec": {
   "display_name": "Python 3",
   "language": "python",
   "name": "python3"
  },
  "language_info": {
   "codemirror_mode": {
    "name": "ipython",
    "version": 3
   },
   "file_extension": ".py",
   "mimetype": "text/x-python",
   "name": "python",
   "nbconvert_exporter": "python",
   "pygments_lexer": "ipython3",
   "version": "3.8.5"
  }
 },
 "nbformat": 4,
 "nbformat_minor": 4
}
