{
 "cells": [
  {
   "cell_type": "markdown",
   "metadata": {},
   "source": [
    "# Thunderbird Demo"
   ]
  },
  {
   "cell_type": "code",
   "execution_count": 1,
   "metadata": {},
   "outputs": [],
   "source": [
    "from birdy import WPSClient\n",
    "import requests"
   ]
  },
  {
   "cell_type": "code",
   "execution_count": 2,
   "metadata": {},
   "outputs": [],
   "source": [
    "# Set up wps application\n",
    "url = 'http://localhost:5001/wps'\n",
    "thunderbird = WPSClient(url=url, progress=True)"
   ]
  },
  {
   "cell_type": "code",
   "execution_count": 3,
   "metadata": {},
   "outputs": [
    {
     "data": {
      "text/plain": [
       "\u001b[0;31mType:\u001b[0m            WPSClient\n",
       "\u001b[0;31mString form:\u001b[0m     <birdy.client.base.WPSClient object at 0x7fd234086c18>\n",
       "\u001b[0;31mFile:\u001b[0m            ~/github/pcic/thunderbird/notebooks/demo_venv/lib/python3.6/site-packages/birdy/client/base.py\n",
       "\u001b[0;31mDocstring:\u001b[0m      \n",
       "A Web Processing Service for Climate Explorer data preparation\n",
       "\n",
       "Processes\n",
       "---------\n",
       "\n",
       "generate_climos\n",
       "    Generate files containing climatological means from input files of daily, monthly, or yearly data that adhere to the PCIC metadata standard (and consequently to CMIP5 and CF standards).\n",
       "\n",
       "hello\n",
       "    Just says a friendly Hello.Returns a literal string output with Hello plus the inputed name.\n",
       "\u001b[0;31mClass docstring:\u001b[0m\n",
       "Returns a class where every public method is a WPS process available at\n",
       "the given url.\n",
       "\n",
       "Example:\n",
       "    >>> emu = WPSClient(url='<server url>')\n",
       "    >>> emu.hello('stranger')\n",
       "    'Hello stranger'\n",
       "\u001b[0;31mInit docstring:\u001b[0m \n",
       "Args:\n",
       "    url (str): Link to WPS provider. config (Config): an instance\n",
       "    processes: Specify a subset of processes to bind. Defaults to all\n",
       "        processes.\n",
       "    converters (dict): Correspondence of {mimetype: class} to convert\n",
       "        this mimetype to a python object.\n",
       "    username (str): passed to :class:`owslib.wps.WebProcessingService`\n",
       "    password (str): passed to :class:`owslib.wps.WebProcessingService`\n",
       "    headers (str): passed to :class:`owslib.wps.WebProcessingService`\n",
       "    auth (requests.auth.AuthBase): requests-style auth class to authenticate,\n",
       "        see https://2.python-requests.org/en/master/user/authentication/\n",
       "    verify (bool): passed to :class:`owslib.wps.WebProcessingService`\n",
       "    cert (str): passed to :class:`owslib.wps.WebProcessingService`\n",
       "    verbose (str): passed to :class:`owslib.wps.WebProcessingService`\n",
       "    progress (bool): If True, enable interactive user mode.\n",
       "    version (str): WPS version to use.\n"
      ]
     },
     "metadata": {},
     "output_type": "display_data"
    }
   ],
   "source": [
    "# Check wps info\n",
    "thunderbird?"
   ]
  },
  {
   "cell_type": "code",
   "execution_count": 4,
   "metadata": {},
   "outputs": [
    {
     "data": {
      "text/plain": [
       "\u001b[0;31mSignature:\u001b[0m\n",
       "\u001b[0mthunderbird\u001b[0m\u001b[0;34m.\u001b[0m\u001b[0mgenerate_climos\u001b[0m\u001b[0;34m(\u001b[0m\u001b[0;34m\u001b[0m\n",
       "\u001b[0;34m\u001b[0m    \u001b[0moperation\u001b[0m\u001b[0;34m,\u001b[0m\u001b[0;34m\u001b[0m\n",
       "\u001b[0;34m\u001b[0m    \u001b[0mclimo\u001b[0m\u001b[0;34m,\u001b[0m\u001b[0;34m\u001b[0m\n",
       "\u001b[0;34m\u001b[0m    \u001b[0mresolutions\u001b[0m\u001b[0;34m,\u001b[0m\u001b[0;34m\u001b[0m\n",
       "\u001b[0;34m\u001b[0m    \u001b[0mdry_run\u001b[0m\u001b[0;34m,\u001b[0m\u001b[0;34m\u001b[0m\n",
       "\u001b[0;34m\u001b[0m    \u001b[0mconvert_longitudes\u001b[0m\u001b[0;34m=\u001b[0m\u001b[0;32mTrue\u001b[0m\u001b[0;34m,\u001b[0m\u001b[0;34m\u001b[0m\n",
       "\u001b[0;34m\u001b[0m    \u001b[0msplit_vars\u001b[0m\u001b[0;34m=\u001b[0m\u001b[0;32mTrue\u001b[0m\u001b[0;34m,\u001b[0m\u001b[0;34m\u001b[0m\n",
       "\u001b[0;34m\u001b[0m    \u001b[0msplit_intervals\u001b[0m\u001b[0;34m=\u001b[0m\u001b[0;32mTrue\u001b[0m\u001b[0;34m,\u001b[0m\u001b[0;34m\u001b[0m\n",
       "\u001b[0;34m\u001b[0m    \u001b[0mopendap\u001b[0m\u001b[0;34m=\u001b[0m\u001b[0;32mNone\u001b[0m\u001b[0;34m,\u001b[0m\u001b[0;34m\u001b[0m\n",
       "\u001b[0;34m\u001b[0m    \u001b[0mnetcdf\u001b[0m\u001b[0;34m=\u001b[0m\u001b[0;32mNone\u001b[0m\u001b[0;34m,\u001b[0m\u001b[0;34m\u001b[0m\n",
       "\u001b[0;34m\u001b[0m\u001b[0;34m)\u001b[0m\u001b[0;34m\u001b[0m\u001b[0;34m\u001b[0m\u001b[0m\n",
       "\u001b[0;31mDocstring:\u001b[0m\n",
       "Generate files containing climatological means from input files of daily, monthly, or yearly data that adhere to the PCIC metadata standard (and consequently to CMIP5 and CF standards).\n",
       "\n",
       "Parameters\n",
       "----------\n",
       "opendap : ComplexData:mimetype:`application/x-ogc-dods`\n",
       "    Path to OPEnDAP resource\n",
       "netcdf : ComplexData:mimetype:`application/x-netcdf`\n",
       "    NetCDF file\n",
       "operation : {'mean', 'std'}string\n",
       "    Operation to perform on the datasets\n",
       "climo : {'all', 'historical', 'futures', '6190', '7100', '8100', '2020', '2050', '2080'}string\n",
       "    Year ranges\n",
       "resolutions : {'all', 'yearly', 'seasonal', 'monthy'}string\n",
       "    Temporal Resolutions\n",
       "convert_longitudes : boolean\n",
       "    Transform longitude range from [0, 360) to [-180, 180)\n",
       "split_vars : boolean\n",
       "    Generate a separate file for each dependent variable in the file\n",
       "split_intervals : boolean\n",
       "    Generate a separate file for each climatological period\n",
       "dry_run : boolean\n",
       "    Checks file to ensure compatible with process\n",
       "\n",
       "Returns\n",
       "-------\n",
       "output : ComplexData:mimetype:`application/metalink+xml; version=4.0`\n",
       "    Collection of climatoligical files\n",
       "dry_output : ComplexData:mimetype:`text/plain`\n",
       "    File information\n",
       "\u001b[0;31mFile:\u001b[0m      ~/github/pcic/thunderbird/notebooks/</home/nrados/github/pcic/thunderbird/notebooks/demo_venv/lib/python3.6/site-packages/birdy/client/base.py-0>\n",
       "\u001b[0;31mType:\u001b[0m      method\n"
      ]
     },
     "metadata": {},
     "output_type": "display_data"
    }
   ],
   "source": [
    "# Check info on `generate_climos` process\n",
    "thunderbird.generate_climos?"
   ]
  },
  {
   "cell_type": "code",
   "execution_count": 5,
   "metadata": {},
   "outputs": [
    {
     "data": {
      "application/vnd.jupyter.widget-view+json": {
       "model_id": "d250d0263fb742bcba56637c1935d572",
       "version_major": 2,
       "version_minor": 0
      },
      "text/plain": [
       "HBox(children=(IntProgress(value=0, bar_style='info', description='Processing:'), Button(button_style='danger'…"
      ]
     },
     "metadata": {},
     "output_type": "display_data"
    }
   ],
   "source": [
    "# Dry run process\n",
    "opendap = 'https://pavics.ouranos.ca/twitcher/ows/proxy/thredds/dodsC/birdhouse/pcic/BCCAQv2_rechunked/tasmin_day_BCCAQv2+ANUSPLIN300_inmcm4_historical+rcp85_r1i1p1_19500101-21001231.nc'\n",
    "operation = 'mean'\n",
    "climo = '6190'\n",
    "resolutions = 'yearly'\n",
    "dry_run = True\n",
    "\n",
    "dry_output = thunderbird.generate_climos(opendap=opendap, operation=operation, climo=climo, resolutions=resolutions, dry_run=dry_run)"
   ]
  },
  {
   "cell_type": "code",
   "execution_count": 6,
   "metadata": {},
   "outputs": [
    {
     "name": "stdout",
     "output_type": "stream",
     "text": [
      "Dry Run\n",
      "File: https://pavics.ouranos.ca/twitcher/ows/proxy/thredds/dodsC/birdhouse/pcic/BCCAQv2_rechunked/tasmin_day_BCCAQv2+ANUSPLIN300_inmcm4_historical+rcp85_r1i1p1_19500101-21001231.nc\n",
      "climo_periods: {'6190'}\n",
      "project: CMIP5\n",
      "institution: PCIC\n",
      "model: CFAttributeError: Expected file to contain attribute 'gcm.model_id', but no such attribute exists\n",
      "emissions: CFAttributeError: Expected file to contain attribute 'gcm.experiment_id', but no such attribute exists\n",
      "run: CFAttributeError: Expected file to contain attribute 'ensemble_member', but no such attribute exists\n",
      "dependent_varnames: ['tasmin']\n",
      "time_resolution: daily\n",
      "is_multi_year_mean: False\n",
      "\n"
     ]
    }
   ],
   "source": [
    "# Process output\n",
    "req = requests.get(dry_output.get()[0])\n",
    "print(req.content.decode('utf-8'))"
   ]
  }
 ],
 "metadata": {
  "kernelspec": {
   "display_name": "Python 3",
   "language": "python",
   "name": "python3"
  },
  "language_info": {
   "codemirror_mode": {
    "name": "ipython",
    "version": 3
   },
   "file_extension": ".py",
   "mimetype": "text/x-python",
   "name": "python",
   "nbconvert_exporter": "python",
   "pygments_lexer": "ipython3",
   "version": "3.6.9"
  }
 },
 "nbformat": 4,
 "nbformat_minor": 4
}
