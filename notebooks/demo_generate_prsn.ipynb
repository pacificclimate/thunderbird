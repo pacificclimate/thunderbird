{
 "cells": [
  {
   "cell_type": "code",
   "execution_count": 1,
   "metadata": {},
   "outputs": [],
   "source": [
    "from birdy import WPSClient\n",
    "import requests\n",
    "import os"
   ]
  },
  {
   "cell_type": "code",
   "execution_count": 2,
   "metadata": {},
   "outputs": [],
   "source": [
    "# Set up wps application\n",
    "url = 'http://localhost:5001/wps'\n",
    "thunderbird = WPSClient(url=url, progress=True)"
   ]
  },
  {
   "cell_type": "code",
   "execution_count": 3,
   "metadata": {},
   "outputs": [
    {
     "data": {
      "text/plain": [
       "\u001b[0;31mSignature:\u001b[0m\n",
       "\u001b[0mthunderbird\u001b[0m\u001b[0;34m.\u001b[0m\u001b[0mgenerate_prsn\u001b[0m\u001b[0;34m(\u001b[0m\u001b[0;34m\u001b[0m\n",
       "\u001b[0;34m\u001b[0m    \u001b[0mprec\u001b[0m\u001b[0;34m,\u001b[0m\u001b[0;34m\u001b[0m\n",
       "\u001b[0;34m\u001b[0m    \u001b[0mtasmin\u001b[0m\u001b[0;34m,\u001b[0m\u001b[0;34m\u001b[0m\n",
       "\u001b[0;34m\u001b[0m    \u001b[0mtasmax\u001b[0m\u001b[0;34m=\u001b[0m\u001b[0;32mNone\u001b[0m\u001b[0;34m,\u001b[0m\u001b[0;34m\u001b[0m\n",
       "\u001b[0;34m\u001b[0m    \u001b[0moutput_file\u001b[0m\u001b[0;34m=\u001b[0m\u001b[0;32mNone\u001b[0m\u001b[0;34m,\u001b[0m\u001b[0;34m\u001b[0m\n",
       "\u001b[0;34m\u001b[0m    \u001b[0mdry_run\u001b[0m\u001b[0;34m=\u001b[0m\u001b[0;32mNone\u001b[0m\u001b[0;34m,\u001b[0m\u001b[0;34m\u001b[0m\n",
       "\u001b[0;34m\u001b[0m    \u001b[0mchunk_size\u001b[0m\u001b[0;34m=\u001b[0m\u001b[0;36m100\u001b[0m\u001b[0;34m,\u001b[0m\u001b[0;34m\u001b[0m\n",
       "\u001b[0;34m\u001b[0m    \u001b[0mloglevel\u001b[0m\u001b[0;34m=\u001b[0m\u001b[0;34m'INFO'\u001b[0m\u001b[0;34m,\u001b[0m\u001b[0;34m\u001b[0m\n",
       "\u001b[0;34m\u001b[0m\u001b[0;34m)\u001b[0m\u001b[0;34m\u001b[0m\u001b[0;34m\u001b[0m\u001b[0m\n",
       "\u001b[0;31mDocstring:\u001b[0m\n",
       "Generate Precipitation as Snow\n",
       "\n",
       "Parameters\n",
       "----------\n",
       "prec : ComplexData:mimetype:`application/x-netcdf`, :mimetype:`application/x-ogc-dods`\n",
       "    Precipitation file to process\n",
       "tasmin : ComplexData:mimetype:`application/x-netcdf`, :mimetype:`application/x-ogc-dods`\n",
       "    Tasmin file to process\n",
       "tasmax : ComplexData:mimetype:`application/x-netcdf`, :mimetype:`application/x-ogc-dods`\n",
       "    Tasmax file to process\n",
       "chunk_size : integer\n",
       "    Number of time slices to be read/written at a time\n",
       "output_file : string\n",
       "    Optional custom name of output file\n",
       "loglevel : {'INFO', 'DEBUG', 'WARNING', 'ERROR'}string\n",
       "    Logging level\n",
       "dry_run : boolean\n",
       "    Checks file to ensure compatible with process\n",
       "\n",
       "Returns\n",
       "-------\n",
       "output : ComplexData:mimetype:`application/metalink+xml; version=4.0`\n",
       "    Precipitation as snow file\n",
       "dry_output : ComplexData:mimetype:`text/plain`\n",
       "    File information\n",
       "\u001b[0;31mFile:\u001b[0m      ~/thunderbird/notebooks/</home/slim/thunderbird-venv/lib/python3.6/site-packages/birdy/client/base.py-1>\n",
       "\u001b[0;31mType:\u001b[0m      method\n"
      ]
     },
     "metadata": {},
     "output_type": "display_data"
    }
   ],
   "source": [
    "# Check info on `generate_prsn` process\n",
    "thunderbird.generate_prsn?"
   ]
  },
  {
   "cell_type": "code",
   "execution_count": 4,
   "metadata": {},
   "outputs": [
    {
     "data": {
      "application/vnd.jupyter.widget-view+json": {
       "model_id": "561adc3439724f13bd8b464bef139d08",
       "version_major": 2,
       "version_minor": 0
      },
      "text/plain": [
       "HBox(children=(IntProgress(value=0, bar_style='info', description='Processing:'), Button(button_style='danger'…"
      ]
     },
     "metadata": {},
     "output_type": "display_data"
    }
   ],
   "source": [
    "# Test local netcdf files\n",
    "pr_file_local = os.path.abspath(\"../tests/generate_prsn_test_files/pr_week_test.nc\")\n",
    "tasmin_file_local = os.path.abspath(\"../tests/generate_prsn_test_files/tasmin_week_test.nc\")\n",
    "tasmax_file_local = os.path.abspath(\"../tests/generate_prsn_test_files/tasmax_week_test.nc\")\n",
    "\n",
    "dry_output = thunderbird.generate_prsn(pr_file_local, tasmin_file_local, tasmax_file_local, chunk_size=50, dry_run=True, output_file=\"prsn_week_test.nc\")"
   ]
  },
  {
   "cell_type": "code",
   "execution_count": 6,
   "metadata": {},
   "outputs": [
    {
     "name": "stdout",
     "output_type": "stream",
     "text": [
      "Dry Run\n",
      "File: /tmp/pywps_process_ej8m0wh9/pr_week_test.nc\n",
      "project: CMIP5\n",
      "model: NorESM1-M\n",
      "institute: PCIC\n",
      "experiment: historical,rcp26\n",
      "ensemble_member: r1i1p1\n",
      "dependent_varnames: ['pr']\n",
      "File: /tmp/pywps_process_ej8m0wh9/tasmin_week_test.nc\n",
      "project: CMIP5\n",
      "model: NorESM1-M\n",
      "institute: PCIC\n",
      "experiment: historical,rcp26\n",
      "ensemble_member: r1i1p1\n",
      "dependent_varnames: ['tasmin']\n",
      "File: /tmp/pywps_process_ej8m0wh9/tasmax_week_test.nc\n",
      "project: CMIP5\n",
      "model: NorESM1-M\n",
      "institute: PCIC\n",
      "experiment: historical,rcp26\n",
      "ensemble_member: r1i1p1\n",
      "dependent_varnames: ['tasmax']\n",
      "\n"
     ]
    }
   ],
   "source": [
    "# Process dry run output\n",
    "req = requests.get(dry_output.get()[0])\n",
    "print(req.content.decode('utf-8'))"
   ]
  },
  {
   "cell_type": "code",
   "execution_count": 7,
   "metadata": {},
   "outputs": [
    {
     "data": {
      "application/vnd.jupyter.widget-view+json": {
       "model_id": "f5da1331508348609f30ef416b511358",
       "version_major": 2,
       "version_minor": 0
      },
      "text/plain": [
       "HBox(children=(IntProgress(value=0, bar_style='info', description='Processing:'), Button(button_style='danger'…"
      ]
     },
     "metadata": {},
     "output_type": "display_data"
    }
   ],
   "source": [
    "# generate prsn\n",
    "output = thunderbird.generate_prsn(pr_file_local, tasmin_file_local, tasmax_file_local, chunk_size=50, dry_run=False, output_file=\"prsn_week_test.nc\")"
   ]
  },
  {
   "cell_type": "code",
   "execution_count": 8,
   "metadata": {},
   "outputs": [
    {
     "name": "stdout",
     "output_type": "stream",
     "text": [
      "<?xml version=\"1.0\" encoding=\"UTF-8\"?><html><body><metalink xmlns=\"urn:ietf:params:xml:ns:metalink\">\n",
      "<published>2020-06-04T15:44:32Z</published>\n",
      "<generator>PyWPS/4.2.2</generator>\n",
      "<file name=\"prsn_week_test.nc\">\n",
      "<identity>prsn_week_test.nc</identity>\n",
      "<size>7665520</size>\n",
      "<metaurl mediatype=\"application/x-netcdf\">http://localhost:5001/outputs/f4e4a1b1-a6b4-11ea-9436-c86000e3f2fd/prsn_week_test.nc</metaurl>\n",
      "<publisher name=\"None\" url=\"http://localhost:5001/wps\"></publisher>\n",
      "</file>\n",
      "</metalink></body></html>\n"
     ]
    }
   ],
   "source": [
    "from bs4 import BeautifulSoup\n",
    "req = requests.get(output.get()[0])\n",
    "print(BeautifulSoup(req.content.decode('utf-8')))"
   ]
  },
  {
   "cell_type": "code",
   "execution_count": 9,
   "metadata": {},
   "outputs": [
    {
     "data": {
      "application/vnd.jupyter.widget-view+json": {
       "model_id": "55077a345bd3415e971c1e7a9d649b41",
       "version_major": 2,
       "version_minor": 0
      },
      "text/plain": [
       "HBox(children=(IntProgress(value=0, bar_style='info', description='Processing:'), Button(button_style='danger'…"
      ]
     },
     "metadata": {},
     "output_type": "display_data"
    }
   ],
   "source": [
    "# Test opendap netcdf files\n",
    "pr_file_opendap = \"http://docker-dev03.pcic.uvic.ca:8083/twitcher/ows/proxy/thredds/dodsC/datasets/TestData/pr_day_BCCAQv2+ANUSPLIN300_NorESM1-M_historical+rcp26_r1i1p1_19500101-19501231.nc\"\n",
    "tasmin_file_opendap = \"http://docker-dev03.pcic.uvic.ca:8083/twitcher/ows/proxy/thredds/dodsC/datasets/TestData/tasmin_day_BCCAQv2+ANUSPLIN300_NorESM1-M_historical+rcp26_r1i1p1_19500101-19501231.nc\"\n",
    "tasmax_file_opendap = \"http://docker-dev03.pcic.uvic.ca:8083/twitcher/ows/proxy/thredds/dodsC/datasets/TestData/tasmax_day_BCCAQv2+ANUSPLIN300_NorESM1-M_historical+rcp26_r1i1p1_19500101-19501231.nc\"\n",
    "\n",
    "dry_output = thunderbird.generate_prsn(pr_file_opendap, tasmin_file_opendap, tasmax_file_opendap, chunk_size=50, dry_run=True, output_file=\"prsn_test.nc\")"
   ]
  },
  {
   "cell_type": "code",
   "execution_count": 10,
   "metadata": {},
   "outputs": [
    {
     "name": "stdout",
     "output_type": "stream",
     "text": [
      "Dry Run\n",
      "File: http://docker-dev03.pcic.uvic.ca:8083/twitcher/ows/proxy/thredds/dodsC/datasets/TestData/pr_day_BCCAQv2+ANUSPLIN300_NorESM1-M_historical+rcp26_r1i1p1_19500101-19501231.nc\n",
      "project: CMIP5\n",
      "model: NorESM1-M\n",
      "institute: PCIC\n",
      "experiment: historical,rcp26\n",
      "ensemble_member: r1i1p1\n",
      "dependent_varnames: ['pr']\n",
      "File: http://docker-dev03.pcic.uvic.ca:8083/twitcher/ows/proxy/thredds/dodsC/datasets/TestData/tasmin_day_BCCAQv2+ANUSPLIN300_NorESM1-M_historical+rcp26_r1i1p1_19500101-19501231.nc\n",
      "project: CMIP5\n",
      "model: NorESM1-M\n",
      "institute: PCIC\n",
      "experiment: historical,rcp26\n",
      "ensemble_member: r1i1p1\n",
      "dependent_varnames: ['tasmin']\n",
      "File: http://docker-dev03.pcic.uvic.ca:8083/twitcher/ows/proxy/thredds/dodsC/datasets/TestData/tasmax_day_BCCAQv2+ANUSPLIN300_NorESM1-M_historical+rcp26_r1i1p1_19500101-19501231.nc\n",
      "project: CMIP5\n",
      "model: NorESM1-M\n",
      "institute: PCIC\n",
      "experiment: historical,rcp26\n",
      "ensemble_member: r1i1p1\n",
      "dependent_varnames: ['tasmax']\n",
      "\n"
     ]
    }
   ],
   "source": [
    "req = requests.get(dry_output.get()[0])\n",
    "print(req.content.decode('utf-8'))"
   ]
  },
  {
   "cell_type": "code",
   "execution_count": 11,
   "metadata": {},
   "outputs": [
    {
     "data": {
      "application/vnd.jupyter.widget-view+json": {
       "model_id": "0ec5041c9e984a61abef99010ceddf5b",
       "version_major": 2,
       "version_minor": 0
      },
      "text/plain": [
       "HBox(children=(IntProgress(value=0, bar_style='info', description='Processing:'), Button(button_style='danger'…"
      ]
     },
     "metadata": {},
     "output_type": "display_data"
    }
   ],
   "source": [
    "output = thunderbird.generate_prsn(pr_file_opendap, tasmin_file_opendap, tasmax_file_opendap, chunk_size=50, dry_run=False, output_file=\"prsn_test.nc\")"
   ]
  },
  {
   "cell_type": "code",
   "execution_count": 12,
   "metadata": {},
   "outputs": [
    {
     "name": "stdout",
     "output_type": "stream",
     "text": [
      "<?xml version=\"1.0\" encoding=\"UTF-8\"?><html><body><metalink xmlns=\"urn:ietf:params:xml:ns:metalink\">\n",
      "<published>2020-06-04T15:51:32Z</published>\n",
      "<generator>PyWPS/4.2.2</generator>\n",
      "<file name=\"prsn_test.nc\">\n",
      "<identity>prsn_test.nc</identity>\n",
      "<size>397678402</size>\n",
      "<metaurl mediatype=\"application/x-netcdf\">http://localhost:5001/outputs/ef762e0a-a6b5-11ea-9436-c86000e3f2fd/prsn_test.nc</metaurl>\n",
      "<publisher name=\"None\" url=\"http://localhost:5001/wps\"></publisher>\n",
      "</file>\n",
      "</metalink></body></html>\n"
     ]
    }
   ],
   "source": [
    "req = requests.get(output.get()[0])\n",
    "print(BeautifulSoup(req.content.decode('utf-8')))"
   ]
  },
  {
   "cell_type": "code",
   "execution_count": null,
   "metadata": {},
   "outputs": [],
   "source": []
  }
 ],
 "metadata": {
  "kernelspec": {
   "display_name": "Python 3",
   "language": "python",
   "name": "python3"
  },
  "language_info": {
   "codemirror_mode": {
    "name": "ipython",
    "version": 3
   },
   "file_extension": ".py",
   "mimetype": "text/x-python",
   "name": "python",
   "nbconvert_exporter": "python",
   "pygments_lexer": "ipython3",
   "version": "3.6.9"
  }
 },
 "nbformat": 4,
 "nbformat_minor": 4
}
