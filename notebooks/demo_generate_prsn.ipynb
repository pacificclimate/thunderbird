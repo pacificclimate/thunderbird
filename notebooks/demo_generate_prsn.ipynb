{
 "cells": [
  {
   "cell_type": "markdown",
   "metadata": {},
   "source": [
    "# Generate Prsn Thunderbird Demo"
   ]
  },
  {
   "cell_type": "code",
   "execution_count": 1,
   "metadata": {},
   "outputs": [],
   "source": [
    "from birdy import WPSClient\n",
    "import requests\n",
    "from pkg_resources import resource_filename\n",
    "\n",
    "import os\n",
    "os.chdir('../')"
   ]
  },
  {
   "cell_type": "code",
   "execution_count": 2,
   "metadata": {},
   "outputs": [],
   "source": [
    "# Set up wps application\n",
    "url = 'http://localhost:5001/wps'\n",
    "thunderbird = WPSClient(url=url)"
   ]
  },
  {
   "cell_type": "code",
   "execution_count": 3,
   "metadata": {},
   "outputs": [
    {
     "data": {
      "text/plain": [
       "\u001b[0;31mSignature:\u001b[0m\n",
       "\u001b[0mthunderbird\u001b[0m\u001b[0;34m.\u001b[0m\u001b[0mgenerate_prsn\u001b[0m\u001b[0;34m(\u001b[0m\u001b[0;34m\u001b[0m\n",
       "\u001b[0;34m\u001b[0m    \u001b[0mprec\u001b[0m\u001b[0;34m,\u001b[0m\u001b[0;34m\u001b[0m\n",
       "\u001b[0;34m\u001b[0m    \u001b[0mtasmin\u001b[0m\u001b[0;34m=\u001b[0m\u001b[0;32mNone\u001b[0m\u001b[0;34m,\u001b[0m\u001b[0;34m\u001b[0m\n",
       "\u001b[0;34m\u001b[0m    \u001b[0mtasmax\u001b[0m\u001b[0;34m=\u001b[0m\u001b[0;32mNone\u001b[0m\u001b[0;34m,\u001b[0m\u001b[0;34m\u001b[0m\n",
       "\u001b[0;34m\u001b[0m    \u001b[0mdry_run\u001b[0m\u001b[0;34m=\u001b[0m\u001b[0;32mNone\u001b[0m\u001b[0;34m,\u001b[0m\u001b[0;34m\u001b[0m\n",
       "\u001b[0;34m\u001b[0m    \u001b[0mchunk_size\u001b[0m\u001b[0;34m=\u001b[0m\u001b[0;36m100\u001b[0m\u001b[0;34m,\u001b[0m\u001b[0;34m\u001b[0m\n",
       "\u001b[0;34m\u001b[0m    \u001b[0moutput_file\u001b[0m\u001b[0;34m=\u001b[0m\u001b[0;34m'None'\u001b[0m\u001b[0;34m,\u001b[0m\u001b[0;34m\u001b[0m\n",
       "\u001b[0;34m\u001b[0m    \u001b[0mloglevel\u001b[0m\u001b[0;34m=\u001b[0m\u001b[0;34m'INFO'\u001b[0m\u001b[0;34m,\u001b[0m\u001b[0;34m\u001b[0m\n",
       "\u001b[0;34m\u001b[0m\u001b[0;34m)\u001b[0m\u001b[0;34m\u001b[0m\u001b[0;34m\u001b[0m\u001b[0m\n",
       "\u001b[0;31mDocstring:\u001b[0m\n",
       "Generate precipitation as snow file from precipitation and minimum/maximum temperature data\n",
       "\n",
       "Parameters\n",
       "----------\n",
       "prec : ComplexData:mimetype:`application/x-netcdf`, :mimetype:`application/x-ogc-dods`\n",
       "    Precipitation file to process\n",
       "tasmin : ComplexData:mimetype:`application/x-netcdf`, :mimetype:`application/x-ogc-dods`\n",
       "    Tasmin file to process\n",
       "tasmax : ComplexData:mimetype:`application/x-netcdf`, :mimetype:`application/x-ogc-dods`\n",
       "    Tasmax file to process\n",
       "chunk_size : integer\n",
       "    Number of time slices to be read/written at a time\n",
       "output_file : string\n",
       "    Optional custom name of output file\n",
       "loglevel : {'INFO', 'DEBUG', 'WARNING', 'ERROR'}string\n",
       "    Logging level\n",
       "dry_run : boolean\n",
       "    Checks file to ensure compatible with process\n",
       "\n",
       "Returns\n",
       "-------\n",
       "output : ComplexData:mimetype:`application/metalink+xml; version=4.0`\n",
       "    Precipitation as snow file\n",
       "dry_output : ComplexData:mimetype:`text/plain`\n",
       "    File information\n",
       "\u001b[0;31mFile:\u001b[0m      ~/thunderbird/notebooks/</home/slim/thunderbird-venv/lib/python3.6/site-packages/birdy/client/base.py-1>\n",
       "\u001b[0;31mType:\u001b[0m      method\n"
      ]
     },
     "metadata": {},
     "output_type": "display_data"
    }
   ],
   "source": [
    "# Check info on `generate_prsn` process\n",
    "thunderbird.generate_prsn?"
   ]
  },
  {
   "cell_type": "code",
   "execution_count": 4,
   "metadata": {},
   "outputs": [],
   "source": [
    "# Test local netcdf files\n",
    "pr_file_local = resource_filename(\"tests\", \"data/pr_week_test.nc\")\n",
    "tasmin_file_local = resource_filename(\"tests\", \"data/tasmin_week_test.nc\")\n",
    "tasmax_file_local = resource_filename(\"tests\", \"data/tasmax_week_test.nc\")\n",
    "\n",
    "dry_output = thunderbird.generate_prsn(pr_file_local, tasmin_file_local, tasmax_file_local, chunk_size=50, dry_run=True)"
   ]
  },
  {
   "cell_type": "code",
   "execution_count": 5,
   "metadata": {},
   "outputs": [
    {
     "name": "stdout",
     "output_type": "stream",
     "text": [
      "Dry Run\n",
      "File: /tmp/pywps_process_w2ta3ge5/pr_week_test.nc\n",
      "project: CMIP5\n",
      "model: NorESM1-M\n",
      "institute: PCIC\n",
      "experiment: historical,rcp26\n",
      "ensemble_member: r1i1p1\n",
      "dependent_varnames: ['pr']\n",
      "File: /tmp/pywps_process_w2ta3ge5/tasmin_week_test.nc\n",
      "project: CMIP5\n",
      "model: NorESM1-M\n",
      "institute: PCIC\n",
      "experiment: historical,rcp26\n",
      "ensemble_member: r1i1p1\n",
      "dependent_varnames: ['tasmin']\n",
      "File: /tmp/pywps_process_w2ta3ge5/tasmax_week_test.nc\n",
      "project: CMIP5\n",
      "model: NorESM1-M\n",
      "institute: PCIC\n",
      "experiment: historical,rcp26\n",
      "ensemble_member: r1i1p1\n",
      "dependent_varnames: ['tasmax']\n",
      "\n"
     ]
    }
   ],
   "source": [
    "# Process dry run output\n",
    "req = requests.get(dry_output.get()[0])\n",
    "print(req.content.decode('utf-8'))"
   ]
  },
  {
   "cell_type": "code",
   "execution_count": 6,
   "metadata": {},
   "outputs": [],
   "source": [
    "# generate prsn\n",
    "output = thunderbird.generate_prsn(pr_file_local, tasmin_file_local, tasmax_file_local, chunk_size=50, dry_run=False)"
   ]
  },
  {
   "cell_type": "code",
   "execution_count": 7,
   "metadata": {},
   "outputs": [
    {
     "name": "stdout",
     "output_type": "stream",
     "text": [
      "<?xml version=\"1.0\" encoding=\"UTF-8\"?><html><body><metalink xmlns=\"urn:ietf:params:xml:ns:metalink\">\n",
      "<published>2020-06-12T13:52:04Z</published>\n",
      "<generator>PyWPS/4.2.2</generator>\n",
      "<file name=\"prsn_day_BCCAQv2_NorESM1-M_historical+rcp26_r1i1p1_19500101-19500107_Canada.nc\">\n",
      "<identity>prsn_day_BCCAQv2_NorESM1-M_historical+rcp26_r1i1p1_19500101-19500107_Canada.nc</identity>\n",
      "<size>7665520</size>\n",
      "<metaurl mediatype=\"application/x-netcdf\">http://localhost:5001/outputs/91f50795-acee-11ea-afd0-c86000e3f2fd/prsn_day_BCCAQv2_NorESM1-M_historical+rcp26_r1i1p1_19500101-19500107_Canada.nc</metaurl>\n",
      "<publisher name=\"None\" url=\"http://localhost:5001/wps\"></publisher>\n",
      "</file>\n",
      "</metalink></body></html>\n"
     ]
    }
   ],
   "source": [
    "from bs4 import BeautifulSoup\n",
    "req = requests.get(output.get()[0])\n",
    "print(BeautifulSoup(req.content.decode('utf-8')))"
   ]
  },
  {
   "cell_type": "code",
   "execution_count": 8,
   "metadata": {},
   "outputs": [],
   "source": [
    "# Custom output filename\n",
    "output = thunderbird.generate_prsn(pr_file_local, tasmin_file_local, tasmax_file_local, chunk_size=50, dry_run=False, output_file=\"prsn_test_local.nc\")"
   ]
  },
  {
   "cell_type": "code",
   "execution_count": 9,
   "metadata": {},
   "outputs": [
    {
     "name": "stdout",
     "output_type": "stream",
     "text": [
      "<?xml version=\"1.0\" encoding=\"UTF-8\"?><html><body><metalink xmlns=\"urn:ietf:params:xml:ns:metalink\">\n",
      "<published>2020-06-12T13:52:04Z</published>\n",
      "<generator>PyWPS/4.2.2</generator>\n",
      "<file name=\"prsn_test_local.nc\">\n",
      "<identity>prsn_test_local.nc</identity>\n",
      "<size>7665520</size>\n",
      "<metaurl mediatype=\"application/x-netcdf\">http://localhost:5001/outputs/92414ee3-acee-11ea-afd0-c86000e3f2fd/prsn_test_local.nc</metaurl>\n",
      "<publisher name=\"None\" url=\"http://localhost:5001/wps\"></publisher>\n",
      "</file>\n",
      "</metalink></body></html>\n"
     ]
    }
   ],
   "source": [
    "req = requests.get(output.get()[0])\n",
    "print(BeautifulSoup(req.content.decode('utf-8')))"
   ]
  },
  {
   "cell_type": "code",
   "execution_count": 10,
   "metadata": {},
   "outputs": [],
   "source": [
    "# Test opendap netcdf files\n",
    "pr_file_opendap = \"http://docker-dev03.pcic.uvic.ca:8083/twitcher/ows/proxy/thredds/dodsC/datasets/TestData/pr_day_BCCAQv2%2BANUSPLIN300_NorESM1-M_historical%2Brcp26_r1i1p1_19500101-19500107.nc\"\n",
    "tasmin_file_opendap = \"http://docker-dev03.pcic.uvic.ca:8083/twitcher/ows/proxy/thredds/dodsC/datasets/TestData/tasmin_day_BCCAQv2%2BANUSPLIN300_NorESM1-M_historical%2Brcp26_r1i1p1_19500101-19500107.nc\"\n",
    "tasmax_file_opendap = \"http://docker-dev03.pcic.uvic.ca:8083/twitcher/ows/proxy/thredds/dodsC/datasets/TestData/tasmax_day_BCCAQv2%2BANUSPLIN300_NorESM1-M_historical%2Brcp26_r1i1p1_19500101-19500107.nc\"\n",
    "\n",
    "dry_output = thunderbird.generate_prsn(pr_file_opendap, tasmin_file_opendap, tasmax_file_opendap, chunk_size=50, dry_run=True, output_file=\"prsn_test_opendap.nc\")"
   ]
  },
  {
   "cell_type": "code",
   "execution_count": 11,
   "metadata": {},
   "outputs": [
    {
     "name": "stdout",
     "output_type": "stream",
     "text": [
      "Dry Run\n",
      "File: http://docker-dev03.pcic.uvic.ca:8083/twitcher/ows/proxy/thredds/dodsC/datasets/TestData/pr_day_BCCAQv2%2BANUSPLIN300_NorESM1-M_historical%2Brcp26_r1i1p1_19500101-19500107.nc\n",
      "project: CMIP5\n",
      "model: NorESM1-M\n",
      "institute: PCIC\n",
      "experiment: historical,rcp26\n",
      "ensemble_member: r1i1p1\n",
      "dependent_varnames: ['pr']\n",
      "File: http://docker-dev03.pcic.uvic.ca:8083/twitcher/ows/proxy/thredds/dodsC/datasets/TestData/tasmin_day_BCCAQv2%2BANUSPLIN300_NorESM1-M_historical%2Brcp26_r1i1p1_19500101-19500107.nc\n",
      "project: CMIP5\n",
      "model: NorESM1-M\n",
      "institute: PCIC\n",
      "experiment: historical,rcp26\n",
      "ensemble_member: r1i1p1\n",
      "dependent_varnames: ['tasmin']\n",
      "File: http://docker-dev03.pcic.uvic.ca:8083/twitcher/ows/proxy/thredds/dodsC/datasets/TestData/tasmax_day_BCCAQv2%2BANUSPLIN300_NorESM1-M_historical%2Brcp26_r1i1p1_19500101-19500107.nc\n",
      "project: CMIP5\n",
      "model: NorESM1-M\n",
      "institute: PCIC\n",
      "experiment: historical,rcp26\n",
      "ensemble_member: r1i1p1\n",
      "dependent_varnames: ['tasmax']\n",
      "\n"
     ]
    }
   ],
   "source": [
    "req = requests.get(dry_output.get()[0])\n",
    "print(req.content.decode('utf-8'))"
   ]
  },
  {
   "cell_type": "code",
   "execution_count": 12,
   "metadata": {},
   "outputs": [],
   "source": [
    "output = thunderbird.generate_prsn(pr_file_opendap, tasmin_file_opendap, tasmax_file_opendap, chunk_size=50, dry_run=False, output_file=\"prsn_test_opendap.nc\")"
   ]
  },
  {
   "cell_type": "code",
   "execution_count": 13,
   "metadata": {},
   "outputs": [
    {
     "name": "stdout",
     "output_type": "stream",
     "text": [
      "<?xml version=\"1.0\" encoding=\"UTF-8\"?><html><body><metalink xmlns=\"urn:ietf:params:xml:ns:metalink\">\n",
      "<published>2020-06-12T13:52:13Z</published>\n",
      "<generator>PyWPS/4.2.2</generator>\n",
      "<file name=\"prsn_test_opendap.nc\">\n",
      "<identity>prsn_test_opendap.nc</identity>\n",
      "<size>7665532</size>\n",
      "<metaurl mediatype=\"application/x-netcdf\">http://localhost:5001/outputs/97a52458-acee-11ea-afd0-c86000e3f2fd/prsn_test_opendap.nc</metaurl>\n",
      "<publisher name=\"None\" url=\"http://localhost:5001/wps\"></publisher>\n",
      "</file>\n",
      "</metalink></body></html>\n"
     ]
    }
   ],
   "source": [
    "req = requests.get(output.get()[0])\n",
    "print(BeautifulSoup(req.content.decode('utf-8')))"
   ]
  },
  {
   "cell_type": "code",
   "execution_count": 14,
   "metadata": {},
   "outputs": [],
   "source": [
    "# Test netcdf files from both sources\n",
    "dry_output = thunderbird.generate_prsn(pr_file_local, tasmin_file_opendap, tasmax_file_opendap, chunk_size=50, dry_run=True, output_file=\"prsn_test_mixed.nc\")"
   ]
  },
  {
   "cell_type": "code",
   "execution_count": 15,
   "metadata": {},
   "outputs": [
    {
     "name": "stdout",
     "output_type": "stream",
     "text": [
      "<html><body><p>Dry Run\n",
      "File: /tmp/pywps_process_yqlcywhj/pr_week_test.nc\n",
      "project: CMIP5\n",
      "model: NorESM1-M\n",
      "institute: PCIC\n",
      "experiment: historical,rcp26\n",
      "ensemble_member: r1i1p1\n",
      "dependent_varnames: ['pr']\n",
      "File: http://docker-dev03.pcic.uvic.ca:8083/twitcher/ows/proxy/thredds/dodsC/datasets/TestData/tasmin_day_BCCAQv2%2BANUSPLIN300_NorESM1-M_historical%2Brcp26_r1i1p1_19500101-19500107.nc\n",
      "project: CMIP5\n",
      "model: NorESM1-M\n",
      "institute: PCIC\n",
      "experiment: historical,rcp26\n",
      "ensemble_member: r1i1p1\n",
      "dependent_varnames: ['tasmin']\n",
      "File: http://docker-dev03.pcic.uvic.ca:8083/twitcher/ows/proxy/thredds/dodsC/datasets/TestData/tasmax_day_BCCAQv2%2BANUSPLIN300_NorESM1-M_historical%2Brcp26_r1i1p1_19500101-19500107.nc\n",
      "project: CMIP5\n",
      "model: NorESM1-M\n",
      "institute: PCIC\n",
      "experiment: historical,rcp26\n",
      "ensemble_member: r1i1p1\n",
      "dependent_varnames: ['tasmax']\n",
      "</p></body></html>\n"
     ]
    }
   ],
   "source": [
    "req = requests.get(dry_output.get()[0])\n",
    "print(BeautifulSoup(req.content.decode('utf-8')))"
   ]
  },
  {
   "cell_type": "code",
   "execution_count": 16,
   "metadata": {},
   "outputs": [],
   "source": [
    "output = thunderbird.generate_prsn(pr_file_local, tasmin_file_opendap, tasmax_file_opendap, chunk_size=50, dry_run=False)"
   ]
  },
  {
   "cell_type": "code",
   "execution_count": 17,
   "metadata": {},
   "outputs": [
    {
     "name": "stdout",
     "output_type": "stream",
     "text": [
      "<?xml version=\"1.0\" encoding=\"UTF-8\"?><html><body><metalink xmlns=\"urn:ietf:params:xml:ns:metalink\">\n",
      "<published>2020-06-12T13:52:19Z</published>\n",
      "<generator>PyWPS/4.2.2</generator>\n",
      "<file name=\"prsn_day_BCCAQv2_NorESM1-M_historical+rcp26_r1i1p1_19500101-19500107_Canada.nc\">\n",
      "<identity>prsn_day_BCCAQv2_NorESM1-M_historical+rcp26_r1i1p1_19500101-19500107_Canada.nc</identity>\n",
      "<size>7665520</size>\n",
      "<metaurl mediatype=\"application/x-netcdf\">http://localhost:5001/outputs/9b8333ee-acee-11ea-afd0-c86000e3f2fd/prsn_day_BCCAQv2_NorESM1-M_historical+rcp26_r1i1p1_19500101-19500107_Canada.nc</metaurl>\n",
      "<publisher name=\"None\" url=\"http://localhost:5001/wps\"></publisher>\n",
      "</file>\n",
      "</metalink></body></html>\n"
     ]
    }
   ],
   "source": [
    "req = requests.get(output.get()[0], stream=True)\n",
    "print(BeautifulSoup(req.content.decode('utf-8')))"
   ]
  },
  {
   "cell_type": "code",
   "execution_count": null,
   "metadata": {},
   "outputs": [],
   "source": []
  },
  {
   "cell_type": "code",
   "execution_count": null,
   "metadata": {},
   "outputs": [],
   "source": []
  },
  {
   "cell_type": "code",
   "execution_count": null,
   "metadata": {},
   "outputs": [],
   "source": []
  },
  {
   "cell_type": "code",
   "execution_count": null,
   "metadata": {},
   "outputs": [],
   "source": []
  },
  {
   "cell_type": "code",
   "execution_count": null,
   "metadata": {},
   "outputs": [],
   "source": []
  },
  {
   "cell_type": "code",
   "execution_count": null,
   "metadata": {},
   "outputs": [],
   "source": []
  },
  {
   "cell_type": "code",
   "execution_count": null,
   "metadata": {},
   "outputs": [],
   "source": []
  },
  {
   "cell_type": "code",
   "execution_count": null,
   "metadata": {},
   "outputs": [],
   "source": []
  }
 ],
 "metadata": {
  "kernelspec": {
   "display_name": "Python 3",
   "language": "python",
   "name": "python3"
  },
  "language_info": {
   "codemirror_mode": {
    "name": "ipython",
    "version": 3
   },
   "file_extension": ".py",
   "mimetype": "text/x-python",
   "name": "python",
   "nbconvert_exporter": "python",
   "pygments_lexer": "ipython3",
   "version": "3.6.9"
  }
 },
 "nbformat": 4,
 "nbformat_minor": 4
}
