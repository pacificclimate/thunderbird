{
 "cells": [
  {
   "cell_type": "code",
   "execution_count": 1,
   "metadata": {},
   "outputs": [],
   "source": [
    "from birdy import WPSClient\n",
    "import requests\n",
    "import os"
   ]
  },
  {
   "cell_type": "code",
   "execution_count": 2,
   "metadata": {},
   "outputs": [],
   "source": [
    "# Set up wps application\n",
    "url = 'http://localhost:5001/wps'\n",
    "thunderbird = WPSClient(url=url)"
   ]
  },
  {
   "cell_type": "code",
   "execution_count": 3,
   "metadata": {},
   "outputs": [
    {
     "name": "stdout",
     "output_type": "stream",
     "text": [
      "/home/slim/thunderbird/tests\n",
      "/home/slim/thunderbird/tests/metadata-conversion/simple-conversion.yaml\n"
     ]
    }
   ],
   "source": [
    "os.chdir('../tests')\n",
    "print(os.getcwd())\n",
    "updates = os.path.join(os.getcwd(), \"metadata-conversion/simple-conversion.yaml\")\n",
    "print(updates)\n",
    "netcdf = \"https://docker-dev03.pcic.uvic.ca/twitcher/ows/proxy/thredds/dodsC/datasets/TestData/gdd_annual_CanESM2_rcp85_r1i1p1_1951-2100.nc\""
   ]
  },
  {
   "cell_type": "code",
   "execution_count": 4,
   "metadata": {},
   "outputs": [],
   "source": [
    "output = thunderbird.update_metadata(updates = updates, netcdf = netcdf)"
   ]
  },
  {
   "cell_type": "code",
   "execution_count": 5,
   "metadata": {},
   "outputs": [
    {
     "name": "stdout",
     "output_type": "stream",
     "text": [
      "update_metadataResponse(\n",
      "    output='http://localhost:5001/outputs/a3d923c2-af51-11ea-afd0-c86000e3f2fd/gdd_annual_CanESM2_rcp85_r1i1p1_1951-2100_copy.nc'\n",
      ")\n"
     ]
    }
   ],
   "source": [
    "print(output.get())"
   ]
  },
  {
   "cell_type": "code",
   "execution_count": 6,
   "metadata": {},
   "outputs": [],
   "source": [
    "updates = \"\"\"\n",
    "global:\n",
    "    history: \"today is a nice day\"\n",
    "\"\"\""
   ]
  },
  {
   "cell_type": "code",
   "execution_count": 7,
   "metadata": {},
   "outputs": [],
   "source": [
    "output = thunderbird.update_metadata(updates = updates, netcdf = netcdf)"
   ]
  },
  {
   "cell_type": "code",
   "execution_count": 8,
   "metadata": {},
   "outputs": [
    {
     "name": "stdout",
     "output_type": "stream",
     "text": [
      "update_metadataResponse(\n",
      "    output='http://localhost:5001/outputs/a669a346-af51-11ea-afd0-c86000e3f2fd/gdd_annual_CanESM2_rcp85_r1i1p1_1951-2100_copy.nc'\n",
      ")\n"
     ]
    }
   ],
   "source": [
    "print(output.get())"
   ]
  },
  {
   "cell_type": "code",
   "execution_count": null,
   "metadata": {},
   "outputs": [],
   "source": []
  }
 ],
 "metadata": {
  "kernelspec": {
   "display_name": "Python 3",
   "language": "python",
   "name": "python3"
  },
  "language_info": {
   "codemirror_mode": {
    "name": "ipython",
    "version": 3
   },
   "file_extension": ".py",
   "mimetype": "text/x-python",
   "name": "python",
   "nbconvert_exporter": "python",
   "pygments_lexer": "ipython3",
   "version": "3.6.9"
  }
 },
 "nbformat": 4,
 "nbformat_minor": 4
}
