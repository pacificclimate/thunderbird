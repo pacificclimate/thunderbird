{
 "cells": [
  {
   "cell_type": "markdown",
   "metadata": {},
   "source": [
    "# Split Merged Climos Thunderbird Demo"
   ]
  },
  {
   "cell_type": "code",
   "execution_count": 1,
   "metadata": {},
   "outputs": [],
   "source": [
    "from birdy import WPSClient\n",
    "import requests\n",
    "from pkg_resources import resource_filename\n",
    "from bs4 import BeautifulSoup"
   ]
  },
  {
   "cell_type": "code",
   "execution_count": 2,
   "metadata": {},
   "outputs": [],
   "source": [
    "import os \n",
    "if os.path.basename(os.getcwd()) != \"thunderbird\": # Ensure current directory is always 'thunderbird' for 'resource_filename' to work\n",
    "    os.chdir('../')"
   ]
  },
  {
   "cell_type": "code",
   "execution_count": 3,
   "metadata": {},
   "outputs": [],
   "source": [
    "# Set up wps application\n",
    "url = 'http://localhost:5001/wps'\n",
    "thunderbird = WPSClient(url=url)"
   ]
  },
  {
   "cell_type": "code",
   "execution_count": 4,
   "metadata": {},
   "outputs": [
    {
     "data": {
      "text/plain": [
       "\u001b[0;31mSignature:\u001b[0m \u001b[0mthunderbird\u001b[0m\u001b[0;34m.\u001b[0m\u001b[0msplit_merged_climos\u001b[0m\u001b[0;34m(\u001b[0m\u001b[0mnetcdf\u001b[0m\u001b[0;34m=\u001b[0m\u001b[0;32mNone\u001b[0m\u001b[0;34m,\u001b[0m \u001b[0mloglevel\u001b[0m\u001b[0;34m=\u001b[0m\u001b[0;34m'INFO'\u001b[0m\u001b[0;34m)\u001b[0m\u001b[0;34m\u001b[0m\u001b[0;34m\u001b[0m\u001b[0m\n",
       "\u001b[0;31mDocstring:\u001b[0m\n",
       "Split climo means files into one file per time interval\n",
       "\n",
       "Parameters\n",
       "----------\n",
       "netcdf : ComplexData:mimetype:`application/x-netcdf`, :mimetype:`application/x-ogc-dods`\n",
       "    NetCDF files to process\n",
       "loglevel : {'CRITICAL', 'ERROR', 'WARNING', 'INFO', 'DEBUG', 'NOTSET'}string\n",
       "    Logging level\n",
       "\n",
       "Returns\n",
       "-------\n",
       "output : ComplexData:mimetype:`application/metalink+xml; version=4.0`\n",
       "    Metalink object between output files\n",
       "\u001b[0;31mFile:\u001b[0m      ~/thunderbird/notebooks/</home/slim/thunderbird-venv/lib/python3.6/site-packages/birdy/client/base.py-3>\n",
       "\u001b[0;31mType:\u001b[0m      method\n"
      ]
     },
     "metadata": {},
     "output_type": "display_data"
    }
   ],
   "source": [
    "# Check info on `split_merged_climos` process\n",
    "thunderbird.split_merged_climos?"
   ]
  },
  {
   "cell_type": "code",
   "execution_count": 5,
   "metadata": {},
   "outputs": [],
   "source": [
    "# Test single local file\n",
    "gcm_climos_local = resource_filename('tests', 'data/tiny_gcm_climos.nc')\n",
    "gcm_360_climos_local = resource_filename('tests', 'data/tiny_gcm_360_climos.nc')\n",
    "tasmax_climos_local = resource_filename('tests', 'data/tiny_downscaled_tasmax_climos.nc')\n",
    "hydromodel_climos_local = resource_filename('tests', 'data/tiny_hydromodel_gcm_climos.nc')\n",
    "output = thunderbird.split_merged_climos(hydromodel_climos_local)"
   ]
  },
  {
   "cell_type": "code",
   "execution_count": 6,
   "metadata": {},
   "outputs": [
    {
     "data": {
      "text/plain": [
       "[<metaurl mediatype=\"application/x-netcdf\">\n",
       "      http://localhost:5001/outputs/c7bcd641-b725-11ea-afd0-c86000e3f2fd/BASEFLOW+EVAP+GLAC_AREA_BAND+GLAC_MBAL_BAND+RUNOFF+SWE_BAND_mClim_VICGL+RGM+HydroCon_ACCESS1-0_historical+rcp45_r1i1p1_19840101-19951231.nc\n",
       "     </metaurl>,\n",
       " <metaurl mediatype=\"application/x-netcdf\">\n",
       "      http://localhost:5001/outputs/c7bcd642-b725-11ea-afd0-c86000e3f2fd/BASEFLOW+EVAP+GLAC_AREA_BAND+GLAC_MBAL_BAND+RUNOFF+SWE_BAND_sClim_VICGL+RGM+HydroCon_ACCESS1-0_historical+rcp45_r1i1p1_19840101-19951231.nc\n",
       "     </metaurl>,\n",
       " <metaurl mediatype=\"application/x-netcdf\">\n",
       "      http://localhost:5001/outputs/c7bcd643-b725-11ea-afd0-c86000e3f2fd/BASEFLOW+EVAP+GLAC_AREA_BAND+GLAC_MBAL_BAND+RUNOFF+SWE_BAND_aClim_VICGL+RGM+HydroCon_ACCESS1-0_historical+rcp45_r1i1p1_19840101-19951231.nc\n",
       "     </metaurl>]"
      ]
     },
     "execution_count": 6,
     "metadata": {},
     "output_type": "execute_result"
    }
   ],
   "source": [
    "req = requests.get(output.get()[0])\n",
    "process = BeautifulSoup(req.content.decode('utf-8'))\n",
    "BeautifulSoup(process.prettify()).find_all('metaurl')"
   ]
  },
  {
   "cell_type": "code",
   "execution_count": 7,
   "metadata": {},
   "outputs": [],
   "source": [
    "# Test multiple local files\n",
    "climo_files_local = [gcm_climos_local, gcm_360_climos_local, tasmax_climos_local, hydromodel_climos_local] \n",
    "output = thunderbird.split_merged_climos(climo_files_local)"
   ]
  },
  {
   "cell_type": "code",
   "execution_count": 8,
   "metadata": {},
   "outputs": [
    {
     "data": {
      "text/plain": [
       "[<metaurl mediatype=\"application/x-netcdf\">\n",
       "      http://localhost:5001/outputs/c80d4167-b725-11ea-afd0-c86000e3f2fd/tasmax_mClim_BNU-ESM_historical_r1i1p1_19650101-19701231.nc\n",
       "     </metaurl>,\n",
       " <metaurl mediatype=\"application/x-netcdf\">\n",
       "      http://localhost:5001/outputs/c80d4168-b725-11ea-afd0-c86000e3f2fd/tasmax_sClim_BNU-ESM_historical_r1i1p1_19650101-19701231.nc\n",
       "     </metaurl>,\n",
       " <metaurl mediatype=\"application/x-netcdf\">\n",
       "      http://localhost:5001/outputs/c80d4169-b725-11ea-afd0-c86000e3f2fd/tasmax_aClim_BNU-ESM_historical_r1i1p1_19650101-19701231.nc\n",
       "     </metaurl>,\n",
       " <metaurl mediatype=\"application/x-netcdf\">\n",
       "      http://localhost:5001/outputs/c80d416a-b725-11ea-afd0-c86000e3f2fd/tasmin_mClim_HadCM3_historical_r1i1p1_19650101-19701230.nc\n",
       "     </metaurl>,\n",
       " <metaurl mediatype=\"application/x-netcdf\">\n",
       "      http://localhost:5001/outputs/c80d416b-b725-11ea-afd0-c86000e3f2fd/tasmin_sClim_HadCM3_historical_r1i1p1_19650101-19701230.nc\n",
       "     </metaurl>,\n",
       " <metaurl mediatype=\"application/x-netcdf\">\n",
       "      http://localhost:5001/outputs/c80d416c-b725-11ea-afd0-c86000e3f2fd/tasmin_aClim_HadCM3_historical_r1i1p1_19650101-19701230.nc\n",
       "     </metaurl>,\n",
       " <metaurl mediatype=\"application/x-netcdf\">\n",
       "      http://localhost:5001/outputs/c80d416d-b725-11ea-afd0-c86000e3f2fd/tasmax_mClim_BCCAQ2_ACCESS1-0_historical+rcp45_r1i1p1_19610101-19901231.nc\n",
       "     </metaurl>,\n",
       " <metaurl mediatype=\"application/x-netcdf\">\n",
       "      http://localhost:5001/outputs/c80d416e-b725-11ea-afd0-c86000e3f2fd/tasmax_sClim_BCCAQ2_ACCESS1-0_historical+rcp45_r1i1p1_19610101-19901231.nc\n",
       "     </metaurl>,\n",
       " <metaurl mediatype=\"application/x-netcdf\">\n",
       "      http://localhost:5001/outputs/c80d416f-b725-11ea-afd0-c86000e3f2fd/tasmax_aClim_BCCAQ2_ACCESS1-0_historical+rcp45_r1i1p1_19610101-19901231.nc\n",
       "     </metaurl>,\n",
       " <metaurl mediatype=\"application/x-netcdf\">\n",
       "      http://localhost:5001/outputs/c80d4170-b725-11ea-afd0-c86000e3f2fd/BASEFLOW+EVAP+GLAC_AREA_BAND+GLAC_MBAL_BAND+RUNOFF+SWE_BAND_mClim_VICGL+RGM+HydroCon_ACCESS1-0_historical+rcp45_r1i1p1_19840101-19951231.nc\n",
       "     </metaurl>,\n",
       " <metaurl mediatype=\"application/x-netcdf\">\n",
       "      http://localhost:5001/outputs/c80d4171-b725-11ea-afd0-c86000e3f2fd/BASEFLOW+EVAP+GLAC_AREA_BAND+GLAC_MBAL_BAND+RUNOFF+SWE_BAND_sClim_VICGL+RGM+HydroCon_ACCESS1-0_historical+rcp45_r1i1p1_19840101-19951231.nc\n",
       "     </metaurl>,\n",
       " <metaurl mediatype=\"application/x-netcdf\">\n",
       "      http://localhost:5001/outputs/c80d4172-b725-11ea-afd0-c86000e3f2fd/BASEFLOW+EVAP+GLAC_AREA_BAND+GLAC_MBAL_BAND+RUNOFF+SWE_BAND_aClim_VICGL+RGM+HydroCon_ACCESS1-0_historical+rcp45_r1i1p1_19840101-19951231.nc\n",
       "     </metaurl>]"
      ]
     },
     "execution_count": 8,
     "metadata": {},
     "output_type": "execute_result"
    }
   ],
   "source": [
    "req = requests.get(output.get()[0])\n",
    "process = BeautifulSoup(req.content.decode('utf-8'))\n",
    "BeautifulSoup(process.prettify()).find_all('metaurl')"
   ]
  },
  {
   "cell_type": "code",
   "execution_count": 9,
   "metadata": {},
   "outputs": [],
   "source": [
    "# Test single opendap file\n",
    "gcm_climos_opendap = \"http://docker-dev03.pcic.uvic.ca/twitcher/ows/proxy/thredds/dodsC/datasets/TestData/tiny_gcm_climos.nc\"\n",
    "gcm_360_climos_opendap = \"http://docker-dev03.pcic.uvic.ca/twitcher/ows/proxy/thredds/dodsC/datasets/TestData/tiny_gcm_360_climos.nc\"\n",
    "tasmax_climos_opendap = \"http://docker-dev03.pcic.uvic.ca/twitcher/ows/proxy/thredds/dodsC/datasets/TestData/tiny_downscaled_tasmax_climos.nc\"\n",
    "hydromodel_climos_opendap = \"http://docker-dev03.pcic.uvic.ca/twitcher/ows/proxy/thredds/dodsC/datasets/TestData/tiny_hydromodel_gcm_climos.nc\"\n",
    "output = thunderbird.split_merged_climos(hydromodel_climos_opendap)"
   ]
  },
  {
   "cell_type": "code",
   "execution_count": 10,
   "metadata": {},
   "outputs": [
    {
     "data": {
      "text/plain": [
       "[<metaurl mediatype=\"application/x-netcdf\">\n",
       "      http://localhost:5001/outputs/ca96cd30-b725-11ea-afd0-c86000e3f2fd/BASEFLOW+EVAP+GLAC_AREA_BAND+GLAC_MBAL_BAND+RUNOFF+SWE_BAND_mClim_VICGL+RGM+HydroCon_ACCESS1-0_historical+rcp45_r1i1p1_19840101-19951231.nc\n",
       "     </metaurl>,\n",
       " <metaurl mediatype=\"application/x-netcdf\">\n",
       "      http://localhost:5001/outputs/ca96cd31-b725-11ea-afd0-c86000e3f2fd/BASEFLOW+EVAP+GLAC_AREA_BAND+GLAC_MBAL_BAND+RUNOFF+SWE_BAND_sClim_VICGL+RGM+HydroCon_ACCESS1-0_historical+rcp45_r1i1p1_19840101-19951231.nc\n",
       "     </metaurl>,\n",
       " <metaurl mediatype=\"application/x-netcdf\">\n",
       "      http://localhost:5001/outputs/ca96cd32-b725-11ea-afd0-c86000e3f2fd/BASEFLOW+EVAP+GLAC_AREA_BAND+GLAC_MBAL_BAND+RUNOFF+SWE_BAND_aClim_VICGL+RGM+HydroCon_ACCESS1-0_historical+rcp45_r1i1p1_19840101-19951231.nc\n",
       "     </metaurl>]"
      ]
     },
     "execution_count": 10,
     "metadata": {},
     "output_type": "execute_result"
    }
   ],
   "source": [
    "req = requests.get(output.get()[0])\n",
    "process = BeautifulSoup(req.content.decode('utf-8'))\n",
    "BeautifulSoup(process.prettify()).find_all('metaurl')"
   ]
  },
  {
   "cell_type": "code",
   "execution_count": 11,
   "metadata": {},
   "outputs": [],
   "source": [
    "# Test multiple opendap files\n",
    "climo_files_opendap = [gcm_climos_opendap, gcm_360_climos_opendap, tasmax_climos_opendap, hydromodel_climos_opendap] \n",
    "output = thunderbird.split_merged_climos(climo_files_opendap)"
   ]
  },
  {
   "cell_type": "code",
   "execution_count": 12,
   "metadata": {},
   "outputs": [
    {
     "data": {
      "text/plain": [
       "[<metaurl mediatype=\"application/x-netcdf\">\n",
       "      http://localhost:5001/outputs/cfe2f912-b725-11ea-afd0-c86000e3f2fd/tasmax_mClim_BNU-ESM_historical_r1i1p1_19650101-19701231.nc\n",
       "     </metaurl>,\n",
       " <metaurl mediatype=\"application/x-netcdf\">\n",
       "      http://localhost:5001/outputs/cfe2f913-b725-11ea-afd0-c86000e3f2fd/tasmax_sClim_BNU-ESM_historical_r1i1p1_19650101-19701231.nc\n",
       "     </metaurl>,\n",
       " <metaurl mediatype=\"application/x-netcdf\">\n",
       "      http://localhost:5001/outputs/cfe2f914-b725-11ea-afd0-c86000e3f2fd/tasmax_aClim_BNU-ESM_historical_r1i1p1_19650101-19701231.nc\n",
       "     </metaurl>,\n",
       " <metaurl mediatype=\"application/x-netcdf\">\n",
       "      http://localhost:5001/outputs/cfe2f915-b725-11ea-afd0-c86000e3f2fd/tasmin_mClim_HadCM3_historical_r1i1p1_19650101-19701230.nc\n",
       "     </metaurl>,\n",
       " <metaurl mediatype=\"application/x-netcdf\">\n",
       "      http://localhost:5001/outputs/cfe2f916-b725-11ea-afd0-c86000e3f2fd/tasmin_sClim_HadCM3_historical_r1i1p1_19650101-19701230.nc\n",
       "     </metaurl>,\n",
       " <metaurl mediatype=\"application/x-netcdf\">\n",
       "      http://localhost:5001/outputs/cfe2f917-b725-11ea-afd0-c86000e3f2fd/tasmin_aClim_HadCM3_historical_r1i1p1_19650101-19701230.nc\n",
       "     </metaurl>,\n",
       " <metaurl mediatype=\"application/x-netcdf\">\n",
       "      http://localhost:5001/outputs/cfe2f918-b725-11ea-afd0-c86000e3f2fd/tasmax_mClim_BCCAQ2_ACCESS1-0_historical+rcp45_r1i1p1_19610101-19901231.nc\n",
       "     </metaurl>,\n",
       " <metaurl mediatype=\"application/x-netcdf\">\n",
       "      http://localhost:5001/outputs/cfe2f919-b725-11ea-afd0-c86000e3f2fd/tasmax_sClim_BCCAQ2_ACCESS1-0_historical+rcp45_r1i1p1_19610101-19901231.nc\n",
       "     </metaurl>,\n",
       " <metaurl mediatype=\"application/x-netcdf\">\n",
       "      http://localhost:5001/outputs/cfe2f91a-b725-11ea-afd0-c86000e3f2fd/tasmax_aClim_BCCAQ2_ACCESS1-0_historical+rcp45_r1i1p1_19610101-19901231.nc\n",
       "     </metaurl>,\n",
       " <metaurl mediatype=\"application/x-netcdf\">\n",
       "      http://localhost:5001/outputs/cfe2f91b-b725-11ea-afd0-c86000e3f2fd/BASEFLOW+EVAP+GLAC_AREA_BAND+GLAC_MBAL_BAND+RUNOFF+SWE_BAND_mClim_VICGL+RGM+HydroCon_ACCESS1-0_historical+rcp45_r1i1p1_19840101-19951231.nc\n",
       "     </metaurl>,\n",
       " <metaurl mediatype=\"application/x-netcdf\">\n",
       "      http://localhost:5001/outputs/cfe2f91c-b725-11ea-afd0-c86000e3f2fd/BASEFLOW+EVAP+GLAC_AREA_BAND+GLAC_MBAL_BAND+RUNOFF+SWE_BAND_sClim_VICGL+RGM+HydroCon_ACCESS1-0_historical+rcp45_r1i1p1_19840101-19951231.nc\n",
       "     </metaurl>,\n",
       " <metaurl mediatype=\"application/x-netcdf\">\n",
       "      http://localhost:5001/outputs/cfe2f91d-b725-11ea-afd0-c86000e3f2fd/BASEFLOW+EVAP+GLAC_AREA_BAND+GLAC_MBAL_BAND+RUNOFF+SWE_BAND_aClim_VICGL+RGM+HydroCon_ACCESS1-0_historical+rcp45_r1i1p1_19840101-19951231.nc\n",
       "     </metaurl>]"
      ]
     },
     "execution_count": 12,
     "metadata": {},
     "output_type": "execute_result"
    }
   ],
   "source": [
    "req = requests.get(output.get()[0])\n",
    "process = BeautifulSoup(req.content.decode('utf-8'))\n",
    "BeautifulSoup(process.prettify()).find_all('metaurl')"
   ]
  },
  {
   "cell_type": "code",
   "execution_count": 13,
   "metadata": {},
   "outputs": [],
   "source": [
    "# Test files from both sources\n",
    "output = thunderbird.split_merged_climos([gcm_climos_local, gcm_360_climos_opendap, tasmax_climos_local, hydromodel_climos_opendap])"
   ]
  },
  {
   "cell_type": "code",
   "execution_count": 14,
   "metadata": {},
   "outputs": [
    {
     "data": {
      "text/plain": [
       "[<metaurl mediatype=\"application/x-netcdf\">\n",
       "      http://localhost:5001/outputs/d2e43946-b725-11ea-afd0-c86000e3f2fd/tasmax_mClim_BNU-ESM_historical_r1i1p1_19650101-19701231.nc\n",
       "     </metaurl>,\n",
       " <metaurl mediatype=\"application/x-netcdf\">\n",
       "      http://localhost:5001/outputs/d2e43947-b725-11ea-afd0-c86000e3f2fd/tasmax_sClim_BNU-ESM_historical_r1i1p1_19650101-19701231.nc\n",
       "     </metaurl>,\n",
       " <metaurl mediatype=\"application/x-netcdf\">\n",
       "      http://localhost:5001/outputs/d2e43948-b725-11ea-afd0-c86000e3f2fd/tasmax_aClim_BNU-ESM_historical_r1i1p1_19650101-19701231.nc\n",
       "     </metaurl>,\n",
       " <metaurl mediatype=\"application/x-netcdf\">\n",
       "      http://localhost:5001/outputs/d2e43949-b725-11ea-afd0-c86000e3f2fd/tasmin_mClim_HadCM3_historical_r1i1p1_19650101-19701230.nc\n",
       "     </metaurl>,\n",
       " <metaurl mediatype=\"application/x-netcdf\">\n",
       "      http://localhost:5001/outputs/d2e4394a-b725-11ea-afd0-c86000e3f2fd/tasmin_sClim_HadCM3_historical_r1i1p1_19650101-19701230.nc\n",
       "     </metaurl>,\n",
       " <metaurl mediatype=\"application/x-netcdf\">\n",
       "      http://localhost:5001/outputs/d2e4394b-b725-11ea-afd0-c86000e3f2fd/tasmin_aClim_HadCM3_historical_r1i1p1_19650101-19701230.nc\n",
       "     </metaurl>,\n",
       " <metaurl mediatype=\"application/x-netcdf\">\n",
       "      http://localhost:5001/outputs/d2e4394c-b725-11ea-afd0-c86000e3f2fd/tasmax_mClim_BCCAQ2_ACCESS1-0_historical+rcp45_r1i1p1_19610101-19901231.nc\n",
       "     </metaurl>,\n",
       " <metaurl mediatype=\"application/x-netcdf\">\n",
       "      http://localhost:5001/outputs/d2e4394d-b725-11ea-afd0-c86000e3f2fd/tasmax_sClim_BCCAQ2_ACCESS1-0_historical+rcp45_r1i1p1_19610101-19901231.nc\n",
       "     </metaurl>,\n",
       " <metaurl mediatype=\"application/x-netcdf\">\n",
       "      http://localhost:5001/outputs/d2e4394e-b725-11ea-afd0-c86000e3f2fd/tasmax_aClim_BCCAQ2_ACCESS1-0_historical+rcp45_r1i1p1_19610101-19901231.nc\n",
       "     </metaurl>,\n",
       " <metaurl mediatype=\"application/x-netcdf\">\n",
       "      http://localhost:5001/outputs/d2e4394f-b725-11ea-afd0-c86000e3f2fd/BASEFLOW+EVAP+GLAC_AREA_BAND+GLAC_MBAL_BAND+RUNOFF+SWE_BAND_mClim_VICGL+RGM+HydroCon_ACCESS1-0_historical+rcp45_r1i1p1_19840101-19951231.nc\n",
       "     </metaurl>,\n",
       " <metaurl mediatype=\"application/x-netcdf\">\n",
       "      http://localhost:5001/outputs/d2e43950-b725-11ea-afd0-c86000e3f2fd/BASEFLOW+EVAP+GLAC_AREA_BAND+GLAC_MBAL_BAND+RUNOFF+SWE_BAND_sClim_VICGL+RGM+HydroCon_ACCESS1-0_historical+rcp45_r1i1p1_19840101-19951231.nc\n",
       "     </metaurl>,\n",
       " <metaurl mediatype=\"application/x-netcdf\">\n",
       "      http://localhost:5001/outputs/d2e43951-b725-11ea-afd0-c86000e3f2fd/BASEFLOW+EVAP+GLAC_AREA_BAND+GLAC_MBAL_BAND+RUNOFF+SWE_BAND_aClim_VICGL+RGM+HydroCon_ACCESS1-0_historical+rcp45_r1i1p1_19840101-19951231.nc\n",
       "     </metaurl>]"
      ]
     },
     "execution_count": 14,
     "metadata": {},
     "output_type": "execute_result"
    }
   ],
   "source": [
    "req = requests.get(output.get()[0])\n",
    "process = BeautifulSoup(req.content.decode('utf-8'))\n",
    "BeautifulSoup(process.prettify()).find_all('metaurl')"
   ]
  },
  {
   "cell_type": "code",
   "execution_count": null,
   "metadata": {},
   "outputs": [],
   "source": []
  }
 ],
 "metadata": {
  "kernelspec": {
   "display_name": "Python 3",
   "language": "python",
   "name": "python3"
  },
  "language_info": {
   "codemirror_mode": {
    "name": "ipython",
    "version": 3
   },
   "file_extension": ".py",
   "mimetype": "text/x-python",
   "name": "python",
   "nbconvert_exporter": "python",
   "pygments_lexer": "ipython3",
   "version": "3.6.9"
  }
 },
 "nbformat": 4,
 "nbformat_minor": 4
}
