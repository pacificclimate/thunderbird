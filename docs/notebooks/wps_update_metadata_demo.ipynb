{
 "cells": [
  {
   "cell_type": "markdown",
   "metadata": {},
   "source": [
    "# wps_update_metadata\n",
    "\n",
    "#### wps_update_metadata is a process that runs the [update_metadata](https://github.com/pacificclimate/climate-explorer-data-prep#update_metadata-update-metadata-in-a-netcdf-file) module of PCIC Climate Explorer Data Preparation Tools. Here, the client will try to connect to a remote Thunderbird instance using the url parameter."
   ]
  },
  {
   "cell_type": "code",
   "execution_count": 1,
   "metadata": {},
   "outputs": [],
   "source": [
    "import warnings\n",
    "warnings.filterwarnings(\"ignore\", category=DeprecationWarning) \n",
    "\n",
    "from birdy import WPSClient\n",
    "from pkg_resources import resource_filename\n",
    "import os\n",
    "from wps_tools.testing import get_target_url\n",
    "from netCDF4 import Dataset\n",
    "from tempfile import NamedTemporaryFile\n",
    "from wps_tools.output_handling import auto_construct_outputs, nc_to_dataset\n",
    "\n",
    "# Ensure we are in the working directory with access to the data\n",
    "while os.path.basename(os.getcwd()) != \"thunderbird\":\n",
    "    os.chdir('../')"
   ]
  },
  {
   "cell_type": "code",
   "execution_count": 2,
   "metadata": {},
   "outputs": [
    {
     "name": "stdout",
     "output_type": "stream",
     "text": [
      "Using thunderbird on https://docker-dev03.pcic.uvic.ca/twitcher/ows/proxy/thunderbird/wps\n"
     ]
    }
   ],
   "source": [
    "# NBVAL_IGNORE_OUTPUT\n",
    "url = get_target_url(\"thunderbird\")\n",
    "print(f\"Using thunderbird on {url}\")"
   ]
  },
  {
   "cell_type": "code",
   "execution_count": 3,
   "metadata": {},
   "outputs": [],
   "source": [
    "thunderbird = WPSClient(url)"
   ]
  },
  {
   "cell_type": "markdown",
   "metadata": {},
   "source": [
    "#### Help for individual processes can be diplayed using the ? command (ex. bird.process?)."
   ]
  },
  {
   "cell_type": "code",
   "execution_count": 4,
   "metadata": {},
   "outputs": [
    {
     "data": {
      "text/plain": [
       "\u001b[0;31mSignature:\u001b[0m\n",
       "\u001b[0mthunderbird\u001b[0m\u001b[0;34m.\u001b[0m\u001b[0mupdate_metadata\u001b[0m\u001b[0;34m(\u001b[0m\u001b[0;34m\u001b[0m\n",
       "\u001b[0;34m\u001b[0m    \u001b[0mnetcdf\u001b[0m\u001b[0;34m=\u001b[0m\u001b[0;32mNone\u001b[0m\u001b[0;34m,\u001b[0m\u001b[0;34m\u001b[0m\n",
       "\u001b[0;34m\u001b[0m    \u001b[0mloglevel\u001b[0m\u001b[0;34m=\u001b[0m\u001b[0;34m'INFO'\u001b[0m\u001b[0;34m,\u001b[0m\u001b[0;34m\u001b[0m\n",
       "\u001b[0;34m\u001b[0m    \u001b[0mupdates_file\u001b[0m\u001b[0;34m=\u001b[0m\u001b[0;32mNone\u001b[0m\u001b[0;34m,\u001b[0m\u001b[0;34m\u001b[0m\n",
       "\u001b[0;34m\u001b[0m    \u001b[0mupdates_string\u001b[0m\u001b[0;34m=\u001b[0m\u001b[0;32mNone\u001b[0m\u001b[0;34m,\u001b[0m\u001b[0;34m\u001b[0m\n",
       "\u001b[0;34m\u001b[0m\u001b[0;34m)\u001b[0m\u001b[0;34m\u001b[0m\u001b[0;34m\u001b[0m\u001b[0m\n",
       "\u001b[0;31mDocstring:\u001b[0m\n",
       "Update file containing missing, invalid, or incorrectly named global or variable metadata attributes\n",
       "\n",
       "Parameters\n",
       "----------\n",
       "netcdf : ComplexData:mimetype:`application/x-netcdf`, :mimetype:`application/x-ogc-dods`\n",
       "    NetCDF file\n",
       "updates_file : ComplexData:mimetype:`text/x-yaml`\n",
       "    The filepath of an updates file that specifies what to do to the metadata it finds in the NetCDF file\n",
       "updates_string : string\n",
       "    The string in yaml format that specifies what to do to the metadata it finds in the NetCDF file\n",
       "loglevel : {'CRITICAL', 'ERROR', 'WARNING', 'INFO', 'DEBUG', 'NOTSET'}string\n",
       "    Logging level\n",
       "\n",
       "Returns\n",
       "-------\n",
       "output : ComplexData:mimetype:`application/x-netcdf`\n",
       "    Output Netcdf File\n",
       "\u001b[0;31mFile:\u001b[0m      ~/code/birds/thunderbird/</tmp/thunderbird-venv/lib/python3.8/site-packages/birdy/client/base.py-2>\n",
       "\u001b[0;31mType:\u001b[0m      method\n"
      ]
     },
     "metadata": {},
     "output_type": "display_data"
    }
   ],
   "source": [
    "# NBVAL_IGNORE_OUTPUT\n",
    "thunderbird.update_metadata?"
   ]
  },
  {
   "cell_type": "markdown",
   "metadata": {},
   "source": [
    "#### We can use the docstring to ensure we provide the appropriate parameters."
   ]
  },
  {
   "cell_type": "code",
   "execution_count": 5,
   "metadata": {},
   "outputs": [],
   "source": [
    "# run update_metadata with yaml text and opendap netcdf inputs\n",
    "updates_string = '''\n",
    "global:\n",
    "    - institute_id:\n",
    "    - institute_ID: PCIC\n",
    "    - address: University House 1 \n",
    "    - Institution: <- institution\n",
    "'''\n",
    "opendap_netcdf = \"https://docker-dev03.pcic.uvic.ca/twitcher/ows/proxy/thredds/dodsC/datasets/storage/data/projects/comp_support/daccs/test-data/gdd_annual_CanESM2_rcp85_r1i1p1_1951-2100.nc\"\n",
    "opendap_output = thunderbird.update_metadata(updates_string = updates_string, netcdf = opendap_netcdf)"
   ]
  },
  {
   "cell_type": "code",
   "execution_count": 6,
   "metadata": {},
   "outputs": [],
   "source": [
    "# run update_metadata with yaml file and local netcdf inputs\n",
    "updates_file = resource_filename('tests', 'metadata-conversion/simple-conversion.yaml')\n",
    "local_netcdf = resource_filename('tests', 'data/gdd_annual_CanESM2_rcp85_r1i1p1_1951-2100.nc')\n",
    "local_output = thunderbird.update_metadata(updates_file = updates_file, netcdf = local_netcdf)"
   ]
  },
  {
   "cell_type": "markdown",
   "metadata": {},
   "source": [
    "Access the output data with **nc_to_dataset()** or **auto_construct_outputs()** from wps_tools.output_handling"
   ]
  },
  {
   "cell_type": "code",
   "execution_count": 7,
   "metadata": {},
   "outputs": [
    {
     "data": {
      "text/plain": [
       "[<class 'netCDF4._netCDF4.Dataset'>\n",
       " root group (NETCDF3_CLASSIC data model, file format NETCDF3):\n",
       "     Conventions: CF-1.4\n",
       "     version: 1\n",
       "     frequency: day\n",
       "     product: output\n",
       "     modeling_realm: atmos\n",
       "     realization: 1\n",
       "     references: Maurer, E.P., Hidalgo, H.G., Das, T., Dettinger, M.D., and Cayan, D.R., 2010.\n",
       " The utility of daily large-scale climate data in the assessment of climate\n",
       " change impacts on daily streamflow in California. Hydrology and Earth System\n",
       " Sciences, 14: 1125-1138.\n",
       "     comment: Quantile mapping extrapolation based on delta-method; tol=0.001\n",
       "     contact: Alex Cannon (acannon@uvic.ca)\n",
       "     driving_institution: Canadian Centre for Climate Modelling and Analysis\n",
       "     driving_institute_id: CCCma\n",
       "     driving_experiment: CanESM2, historical+rcp85, r1i1p1\n",
       "     driving_model_id: CanESM2\n",
       "     driving_model_ensemble_member: r1i1p1\n",
       "     driving_experiment_name: historical, RCP8.5\n",
       "     target_institution: Canadian Forest Service, Natural Resources Canada\n",
       "     target_institute_id: CFS-NRCan\n",
       "     target_dataset: ANUSPLIN interpolated Canada daily 300 arc second climate grids\n",
       "     target_id: ANUSPLIN300\n",
       "     target_references: McKenney, D.W., Hutchinson, M.F., Papadopol, P., Lawrence, K., Pedlar, J.,\n",
       " Campbell, K., Milewska, E., Hopkinson, R., Price, D., and Owen, T.,\n",
       " 2011. Customized spatial climate models for North America.\n",
       " Bulletin of the American Meteorological Society, 92(12): 1611-1622.\n",
       " \n",
       " Hopkinson, R.F., McKenney, D.W., Milewska, E.J., Hutchinson, M.F.,\n",
       " Papadopol, P., Vincent, L.A., 2011. Impact of aligning climatological day\n",
       " on gridding daily maximum-minimum temperature and precipitation over Canada.\n",
       " Journal of Applied Meteorology and Climatology 50: 1654-1665.\n",
       "     target_version: canada_daily_standard_grids\n",
       "     target_history: obtained: 2 April 2012, 14 June 2012, and 30 January 2013\n",
       "     target_contact: Pia Papadopol (pia.papadopol@nrcan-rncan.gc.ca)\n",
       "     title: Bias Correction/Constructed Analogue Quantile Mapping (BCCAQ) downscaling model output for Canada\n",
       "     creation_date: 2013-10-16T15:54:57Z\n",
       "     history: Tue Jun 23 10:41:16 2020: ncatted -a _FillValue,gdd,m,f,-32768. gdd_annual_CanESM2_rcp85_r1i1p1_1951-2100.nc\n",
       "     NCO: 4.7.2\n",
       "     project_id: CMIP5\n",
       "     initialization_method: 1\n",
       "     physics_version: 1\n",
       "     model_id: CanESM2\n",
       "     experiment_id: rcp85\n",
       "     institute_ID: PCIC\n",
       "     address: University House 1\n",
       "     Institution: Pacific Climate Impacts Consortium (PCIC), Victoria, BC, www.pacificclimate.org\n",
       "     dimensions(sizes): lon(313), lat(145), time(150)\n",
       "     variables(dimensions): float64 lon(lon), float64 lat(lat), float64 time(time), float32 gdd(time, lat, lon)\n",
       "     groups: ]"
      ]
     },
     "execution_count": 7,
     "metadata": {},
     "output_type": "execute_result"
    }
   ],
   "source": [
    "# NBVAL_IGNORE_OUTPUT\n",
    "nc_to_dataset(local_output.get()[0])\n",
    "auto_construct_outputs(local_output.get())"
   ]
  },
  {
   "cell_type": "markdown",
   "metadata": {},
   "source": [
    "#### Once the process has completed we can extract the results and ensure it is what we expected."
   ]
  },
  {
   "cell_type": "code",
   "execution_count": 8,
   "metadata": {},
   "outputs": [],
   "source": [
    "input_data = Dataset(\"https://docker-dev03.pcic.uvic.ca/twitcher/ows/proxy/thredds/dodsC/datasets/storage/data/projects/comp_support/daccs/test-data/gdd_annual_CanESM2_rcp85_r1i1p1_1951-2100.nc\")\n",
    "\n",
    "# Expected output metadata determined from the input yaml file\n",
    "# global:\n",
    "#     - institute_id:\n",
    "#     - institute_ID: PCIC\n",
    "#     - address: University House 1 \n",
    "#     - Institution: <- institution\n",
    "expected = {\n",
    "    \"institute_ID\": \"PCIC\",\n",
    "    \"address\": \"University House 1\",\n",
    "    \"Institution\": input_data.institution,\n",
    "}"
   ]
  },
  {
   "cell_type": "code",
   "execution_count": 9,
   "metadata": {},
   "outputs": [],
   "source": [
    "def test_metadata(output):\n",
    "    output_data = nc_to_dataset(output.get()[0])\n",
    "    \n",
    "   # updated metadata\n",
    "    metadata = {\n",
    "        \"institute_ID\": output_data.institute_ID,\n",
    "        \"address\": output_data.address,\n",
    "        \"Institution\": output_data.Institution,\n",
    "    }\n",
    "\n",
    "    assert metadata == expected"
   ]
  },
  {
   "cell_type": "code",
   "execution_count": 10,
   "metadata": {},
   "outputs": [],
   "source": [
    "test_metadata(opendap_output)\n",
    "test_metadata(local_output)"
   ]
  }
 ],
 "metadata": {
  "kernelspec": {
   "display_name": "Python 3",
   "language": "python",
   "name": "python3"
  },
  "language_info": {
   "codemirror_mode": {
    "name": "ipython",
    "version": 3
   },
   "file_extension": ".py",
   "mimetype": "text/x-python",
   "name": "python",
   "nbconvert_exporter": "python",
   "pygments_lexer": "ipython3",
   "version": "3.8.5"
  }
 },
 "nbformat": 4,
 "nbformat_minor": 4
}
