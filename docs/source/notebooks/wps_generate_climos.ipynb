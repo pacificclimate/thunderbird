{
 "cells": [
  {
   "cell_type": "markdown",
   "metadata": {},
   "source": [
    "## Generate Climos"
   ]
  },
  {
   "cell_type": "markdown",
   "metadata": {},
   "source": [
    "This process runs [generate_climos](https://github.com/pacificclimate/climate-explorer-data-prep/blob/master/README.md#generate_climos-generate-climatological-means), which creates files with climatological means/standard deviations of input data from a netcdf file."
   ]
  },
  {
   "cell_type": "code",
   "execution_count": null,
   "metadata": {},
   "outputs": [],
   "source": [
    "from birdy import WPSClient\n",
    "from pkg_resources import resource_filename\n",
    "import requests\n",
    "import os\n",
    "from datetime import datetime\n",
    "from wps_tools.utils import copy_http_content\n",
    "from netCDF4 import Dataset\n",
    "from tempfile import NamedTemporaryFile\n",
    "from bs4 import BeautifulSoup\n",
    "import json"
   ]
  },
  {
   "cell_type": "code",
   "execution_count": null,
   "metadata": {},
   "outputs": [],
   "source": [
    "# Ensure we are in the working directory with access to the data\n",
    "while os.path.basename(os.getcwd()) != \"thunderbird\":\n",
    "    os.chdir('../')\n",
    "\n",
    "# Set up wps application\n",
    "url = 'http://localhost:5001/wps'\n",
    "thunderbird = WPSClient(url=url)"
   ]
  },
  {
   "cell_type": "code",
   "execution_count": null,
   "metadata": {},
   "outputs": [],
   "source": [
    "# Check info on `generate_climos` process\n",
    "thunderbird.generate_climos?"
   ]
  },
  {
   "cell_type": "code",
   "execution_count": null,
   "metadata": {},
   "outputs": [],
   "source": [
    "# Dry run process\n",
    "seasonal_opendap = 'https://docker-dev03.pcic.uvic.ca/twitcher/ows/proxy/thredds/dodsC/datasets/TestData/fdd_seasonal_CanESM2_rcp85_r1i1p1_1951-2100.nc'\n",
    "annual_local = resource_filename('tests', 'data/gdd_annual_CanESM2_rcp85_r1i1p1_1951-2100.nc')\n",
    "operation = 'mean'\n",
    "climo = '6190'\n",
    "resolutions = 'yearly'\n",
    "dry_run = True\n",
    "\n",
    "dry_output = thunderbird.generate_climos(\n",
    "    netcdf=seasonal_opendap, \n",
    "    operation=operation, \n",
    "    climo=climo, \n",
    "    resolutions=resolutions, \n",
    "    dry_run=dry_run\n",
    ")"
   ]
  },
  {
   "cell_type": "code",
   "execution_count": null,
   "metadata": {},
   "outputs": [],
   "source": [
    "# Process dry run output\n",
    "req = requests.get(dry_output.get()[0])\n",
    "BeautifulSoup(BeautifulSoup(req.content.decode('utf-8')).prettify()).metaurl"
   ]
  },
  {
   "cell_type": "code",
   "execution_count": null,
   "metadata": {},
   "outputs": [],
   "source": [
    "# generate climos\n",
    "output = thunderbird.generate_climos(\n",
    "    netcdf=seasonal_opendap, \n",
    "    operation=operation, \n",
    "    climo=climo, \n",
    "    resolutions=resolutions, \n",
    "    dry_run=False\n",
    ")"
   ]
  },
  {
   "cell_type": "code",
   "execution_count": null,
   "metadata": {},
   "outputs": [],
   "source": [
    "# Process normal output\n",
    "req = requests.get(output.get()[0])\n",
    "BeautifulSoup(BeautifulSoup(req.content.decode('utf-8')).prettify()).metaurl"
   ]
  }
 ],
 "metadata": {
  "kernelspec": {
   "display_name": "Python 3",
   "language": "python",
   "name": "python3"
  },
  "language_info": {
   "codemirror_mode": {
    "name": "ipython",
    "version": 3
   },
   "file_extension": ".py",
   "mimetype": "text/x-python",
   "name": "python",
   "nbconvert_exporter": "python",
   "pygments_lexer": "ipython3",
   "version": "3.8.2"
  }
 },
 "nbformat": 4,
 "nbformat_minor": 4
}
