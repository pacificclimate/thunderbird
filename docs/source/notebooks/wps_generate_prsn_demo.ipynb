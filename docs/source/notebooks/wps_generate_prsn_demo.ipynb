{
 "cells": [
  {
   "cell_type": "markdown",
   "metadata": {},
   "source": [
    "# wps_generate_prsn\n",
    "\n",
    "#### wps_generate_prsn is a process that runs the [generate_prsn](https://github.com/pacificclimate/climate-explorer-data-prep#generate_prsn-generate-snowfall-file) module of PCIC Climate Explorer Data Preparation Tools. Here, the client will try to connect to a remote Thunderbird instance using the url parameter."
   ]
  },
  {
   "cell_type": "code",
   "execution_count": 1,
   "metadata": {},
   "outputs": [],
   "source": [
    "from birdy import WPSClient\n",
    "import requests\n",
    "import os\n",
    "from wps_tools.file_handling import copy_http_content\n",
    "from wps_tools.testing import get_target_url\n",
    "from netCDF4 import Dataset\n",
    "from tempfile import NamedTemporaryFile\n",
    "from wps_tools.output_handling import auto_construct_outputs, txt_to_string, nc_to_dataset"
   ]
  },
  {
   "cell_type": "code",
   "execution_count": 2,
   "metadata": {},
   "outputs": [
    {
     "name": "stdout",
     "output_type": "stream",
     "text": [
      "Using thunderbird on https://docker-dev03.pcic.uvic.ca/twitcher/ows/proxy/thunderbird/wps\n"
     ]
    }
   ],
   "source": [
    "# NBVAL_IGNORE_OUTPUT\n",
    "url = get_target_url(\"thunderbird\")\n",
    "print(f\"Using thunderbird on {url}\")"
   ]
  },
  {
   "cell_type": "code",
   "execution_count": 3,
   "metadata": {},
   "outputs": [],
   "source": [
    "thunderbird = WPSClient(url)"
   ]
  },
  {
   "cell_type": "markdown",
   "metadata": {},
   "source": [
    "#### Help for individual processes can be diplayed using the ? command (ex. bird.process?)."
   ]
  },
  {
   "cell_type": "code",
   "execution_count": 4,
   "metadata": {},
   "outputs": [
    {
     "data": {
      "text/plain": [
       "\u001b[0;31mSignature:\u001b[0m\n",
       "\u001b[0mthunderbird\u001b[0m\u001b[0;34m.\u001b[0m\u001b[0mgenerate_prsn\u001b[0m\u001b[0;34m(\u001b[0m\u001b[0;34m\u001b[0m\n",
       "\u001b[0;34m\u001b[0m    \u001b[0mprec\u001b[0m\u001b[0;34m,\u001b[0m\u001b[0;34m\u001b[0m\n",
       "\u001b[0;34m\u001b[0m    \u001b[0mtasmin\u001b[0m\u001b[0;34m=\u001b[0m\u001b[0;32mNone\u001b[0m\u001b[0;34m,\u001b[0m\u001b[0;34m\u001b[0m\n",
       "\u001b[0;34m\u001b[0m    \u001b[0mtasmax\u001b[0m\u001b[0;34m=\u001b[0m\u001b[0;32mNone\u001b[0m\u001b[0;34m,\u001b[0m\u001b[0;34m\u001b[0m\n",
       "\u001b[0;34m\u001b[0m    \u001b[0mdry_run\u001b[0m\u001b[0;34m=\u001b[0m\u001b[0;32mNone\u001b[0m\u001b[0;34m,\u001b[0m\u001b[0;34m\u001b[0m\n",
       "\u001b[0;34m\u001b[0m    \u001b[0mchunk_size\u001b[0m\u001b[0;34m=\u001b[0m\u001b[0;36m100\u001b[0m\u001b[0;34m,\u001b[0m\u001b[0;34m\u001b[0m\n",
       "\u001b[0;34m\u001b[0m    \u001b[0moutput_file\u001b[0m\u001b[0;34m=\u001b[0m\u001b[0;34m'None'\u001b[0m\u001b[0;34m,\u001b[0m\u001b[0;34m\u001b[0m\n",
       "\u001b[0;34m\u001b[0m    \u001b[0mloglevel\u001b[0m\u001b[0;34m=\u001b[0m\u001b[0;34m'INFO'\u001b[0m\u001b[0;34m,\u001b[0m\u001b[0;34m\u001b[0m\n",
       "\u001b[0;34m\u001b[0m\u001b[0;34m)\u001b[0m\u001b[0;34m\u001b[0m\u001b[0;34m\u001b[0m\u001b[0m\n",
       "\u001b[0;31mDocstring:\u001b[0m\n",
       "Generate precipitation as snow file from precipitation and minimum/maximum temperature data\n",
       "\n",
       "Parameters\n",
       "----------\n",
       "prec : ComplexData:mimetype:`application/x-netcdf`, :mimetype:`application/x-ogc-dods`\n",
       "    Precipitation file to process\n",
       "tasmin : ComplexData:mimetype:`application/x-netcdf`, :mimetype:`application/x-ogc-dods`\n",
       "    Tasmin file to process\n",
       "tasmax : ComplexData:mimetype:`application/x-netcdf`, :mimetype:`application/x-ogc-dods`\n",
       "    Tasmax file to process\n",
       "chunk_size : integer\n",
       "    Number of time slices to be read/written at a time\n",
       "output_file : string\n",
       "    Optional custom name of output file\n",
       "loglevel : {'CRITICAL', 'ERROR', 'WARNING', 'INFO', 'DEBUG', 'NOTSET'}string\n",
       "    Logging level\n",
       "dry_run : boolean\n",
       "    Checks file to ensure compatible with process\n",
       "\n",
       "Returns\n",
       "-------\n",
       "output : ComplexData:mimetype:`application/x-netcdf`\n",
       "    Output Netcdf File\n",
       "dry_output : ComplexData:mimetype:`text/plain`\n",
       "    File information\n",
       "\u001b[0;31mFile:\u001b[0m      ~/code/birds/thunderbird/docs/source/notebooks/</tmp/thunderbird-venv/lib/python3.8/site-packages/birdy/client/base.py-1>\n",
       "\u001b[0;31mType:\u001b[0m      method\n"
      ]
     },
     "metadata": {},
     "output_type": "display_data"
    }
   ],
   "source": [
    "# NBVAL_IGNORE_OUTPUT\n",
    "thunderbird.generate_prsn?"
   ]
  },
  {
   "cell_type": "markdown",
   "metadata": {},
   "source": [
    "#### We can use the docstring to ensure we provide the appropriate parameters."
   ]
  },
  {
   "cell_type": "code",
   "execution_count": 5,
   "metadata": {},
   "outputs": [],
   "source": [
    "# Dry-run\n",
    "pr_file_opendap = \"https://docker-dev03.pcic.uvic.ca/twitcher/ows/proxy/thredds/dodsC/datasets/storage/data/projects/comp_support/daccs/test-data/pr_day_BCCAQv2+ANUSPLIN300_NorESM1-M_historical+rcp26_r1i1p1_19500101-19500107.nc\"\n",
    "tasmin_file_opendap = \"https://docker-dev03.pcic.uvic.ca/twitcher/ows/proxy/thredds/dodsC/datasets/storage/data/projects/comp_support/daccs/test-data/tasmin_day_BCCAQv2%2BANUSPLIN300_NorESM1-M_historical%2Brcp26_r1i1p1_19500101-19500107.nc\"\n",
    "tasmax_file_opendap = \"https://docker-dev03.pcic.uvic.ca/twitcher/ows/proxy/thredds/dodsC/datasets/storage/data/projects/comp_support/daccs/test-data/tasmax_day_BCCAQv2%2BANUSPLIN300_NorESM1-M_historical%2Brcp26_r1i1p1_19500101-19500107.nc\"\n",
    "\n",
    "dry_output = thunderbird.generate_prsn(pr_file_opendap, tasmin_file_opendap, tasmax_file_opendap, chunk_size=50, dry_run=True)"
   ]
  },
  {
   "cell_type": "code",
   "execution_count": 6,
   "metadata": {},
   "outputs": [],
   "source": [
    "req = requests.get(dry_output.get()[0])\n",
    "dependent_varnames = [line.split(\":\")[-1].strip(\" ['']\") for line in req.content.decode('utf-8').split(\"\\n\") if \"dependent_varnames\" in line]\n",
    "assert dependent_varnames == ['pr', 'tasmin', 'tasmax']"
   ]
  },
  {
   "cell_type": "code",
   "execution_count": 7,
   "metadata": {},
   "outputs": [],
   "source": [
    "# Normal run\n",
    "output = thunderbird.generate_prsn(pr_file_opendap, tasmin_file_opendap, tasmax_file_opendap, chunk_size=50, dry_run=False, output_file=\"prsn_test_mixed.nc\")"
   ]
  },
  {
   "cell_type": "markdown",
   "metadata": {},
   "source": [
    "Access the output with **auto_construct_outputs()** or **txt_to_string()** and **nc_to_dataset** from wps_tools.output_handling"
   ]
  },
  {
   "cell_type": "code",
   "execution_count": 8,
   "metadata": {},
   "outputs": [
    {
     "data": {
      "text/plain": [
       "[str, netCDF4._netCDF4.Dataset]"
      ]
     },
     "execution_count": 8,
     "metadata": {},
     "output_type": "execute_result"
    }
   ],
   "source": [
    "# NBVAL_IGNORE_OUTPUT\n",
    "outputs = auto_construct_outputs(dry_output.get() + output.get())\n",
    "[type(output) for output in outputs]"
   ]
  },
  {
   "cell_type": "code",
   "execution_count": 9,
   "metadata": {},
   "outputs": [
    {
     "name": "stdout",
     "output_type": "stream",
     "text": [
      "Dry Run\n",
      "generate_prsn:Dry Run\n",
      "INFO:dp.generate_prsn:\n",
      "INFO:dp.generate_prsn:File: https://docker-dev03.pcic.uvic.ca/twitcher/ows/proxy/thredds/dodsC/datasets/storage/data/projects/comp_support/daccs/test-data/pr_day_BCCAQv2+ANUSPLIN300_NorESM1-M_historical+rcp26_r1i1p1_19500101-19500107.nc\n",
      "INFO:dp.generate_prsn:project: CMIP5\n",
      "INFO:dp.generate_prsn:model: NorESM1-M\n",
      "INFO:dp.generate_prsn:institute: PCIC\n",
      "INFO:dp.generate_prsn:experiment: historical,rcp26\n",
      "INFO:dp.generate_prsn:ensemble_member: r1i1p1\n",
      "INFO:dp.generate_prsn:dependent_varnames: ['pr']\n",
      "INFO:dp.generate_prsn:\n",
      "INFO:dp.generate_prsn:File: https://docker-dev03.pcic.uvic.ca/twitcher/ows/proxy/thredds/dodsC/datasets/storage/data/projects/comp_support/daccs/test-data/tasmin_day_BCCAQv2%2BANUSPLIN300_NorESM1-M_historical%2Brcp26_r1i1p1_19500101-19500107.nc\n",
      "INFO:dp.generate_prsn:project: CMIP5\n",
      "INFO:dp.generate_prsn:model: NorESM1-M\n",
      "INFO:dp.generate_prsn:institute: PCIC\n",
      "INFO:dp.generate_prsn:experiment: historical,rcp26\n",
      "INFO:dp.generate_prsn:ensemble_member: r1i1p1\n",
      "INFO:dp.generate_prsn:dependent_varnames: ['tasmin']\n",
      "INFO:dp.generate_prsn:\n",
      "INFO:dp.generate_prsn:File: https://docker-dev03.pcic.uvic.ca/twitcher/ows/proxy/thredds/dodsC/datasets/storage/data/projects/comp_support/daccs/test-data/tasmax_day_BCCAQv2%2BANUSPLIN300_NorESM1-M_historical%2Brcp26_r1i1p1_19500101-19500107.nc\n",
      "INFO:dp.generate_prsn:project: CMIP5\n",
      "INFO:dp.generate_prsn:model: NorESM1-M\n",
      "INFO:dp.generate_prsn:institute: PCIC\n",
      "INFO:dp.generate_prsn:experiment: historical,rcp26\n",
      "INFO:dp.generate_prsn:ensemble_member: r1i1p1\n",
      "INFO:dp.generate_prsn:dependent_varnames: ['tasmax']\n",
      "\n",
      "http://localhost:5000/outputs/ad971abc-5466-11eb-9bea-9bfa3f22d465/prsn_test_mixed.nc\n"
     ]
    }
   ],
   "source": [
    "# NBVAL_IGNORE_OUTPUT\n",
    "output_data = output.get()[0]\n",
    "nc_content = nc_to_dataset(output_data)\n",
    "print(txt_to_string(dry_output.get()[0]))\n",
    "print(output_data)"
   ]
  },
  {
   "cell_type": "code",
   "execution_count": 10,
   "metadata": {},
   "outputs": [],
   "source": [
    "assert 'prsn' in nc_content.variables.keys()"
   ]
  }
 ],
 "metadata": {
  "kernelspec": {
   "display_name": "Python 3",
   "language": "python",
   "name": "python3"
  },
  "language_info": {
   "codemirror_mode": {
    "name": "ipython",
    "version": 3
   },
   "file_extension": ".py",
   "mimetype": "text/x-python",
   "name": "python",
   "nbconvert_exporter": "python",
   "pygments_lexer": "ipython3",
   "version": "3.8.5"
  }
 },
 "nbformat": 4,
 "nbformat_minor": 4
}
