{
 "cells": [
  {
   "cell_type": "markdown",
   "metadata": {},
   "source": [
    "# wps_split_merged_climos\n",
    "\n",
    "#### wps_split_merged_climos is a process that runs the [split_merged_climos](https://github.com/pacificclimate/climate-explorer-data-prep#split_merged_climos-split-climo-means-files-into-per-interval-files-month-season-year) module of PCIC Climate Explorer Data Preparation Tools. Here, the client will try to connect to a remote osprey instance using the url parameter."
   ]
  },
  {
   "cell_type": "code",
   "execution_count": 1,
   "metadata": {},
   "outputs": [],
   "source": [
    "from birdy import WPSClient\n",
    "from pkg_resources import resource_filename\n",
    "import requests\n",
    "import os\n",
    "from nchelpers import CFDataset\n",
    "from bs4 import BeautifulSoup\n",
    "\n",
    "# Ensure we are in the working directory with access to the data\n",
    "while os.path.basename(os.getcwd()) != \"thunderbird\":\n",
    "    os.chdir('../')\n",
    "\n",
    "url = 'https://docker-dev03.pcic.uvic.ca/twitcher/ows/proxy/thunderbird/wps'\n",
    "thunderbird = WPSClient(url)"
   ]
  },
  {
   "cell_type": "markdown",
   "metadata": {},
   "source": [
    "#### Help for individual processes can be diplayed using the ? command (ex. bird.process?)."
   ]
  },
  {
   "cell_type": "code",
   "execution_count": 2,
   "metadata": {},
   "outputs": [
    {
     "data": {
      "text/plain": [
       "\u001b[0;31mSignature:\u001b[0m \u001b[0mthunderbird\u001b[0m\u001b[0;34m.\u001b[0m\u001b[0msplit_merged_climos\u001b[0m\u001b[0;34m(\u001b[0m\u001b[0mnetcdf\u001b[0m\u001b[0;34m=\u001b[0m\u001b[0;32mNone\u001b[0m\u001b[0;34m,\u001b[0m \u001b[0mloglevel\u001b[0m\u001b[0;34m=\u001b[0m\u001b[0;34m'INFO'\u001b[0m\u001b[0;34m)\u001b[0m\u001b[0;34m\u001b[0m\u001b[0;34m\u001b[0m\u001b[0m\n",
       "\u001b[0;31mDocstring:\u001b[0m\n",
       "Split climo means files into one file per time interval\n",
       "\n",
       "Parameters\n",
       "----------\n",
       "netcdf : ComplexData:mimetype:`application/x-netcdf`, :mimetype:`application/x-ogc-dods`\n",
       "    NetCDF files to process\n",
       "loglevel : {'CRITICAL', 'ERROR', 'WARNING', 'INFO', 'DEBUG', 'NOTSET'}string\n",
       "    Logging level\n",
       "\n",
       "Returns\n",
       "-------\n",
       "output : ComplexData:mimetype:`application/metalink+xml; version=4.0`\n",
       "    Metalink object between output files\n",
       "\u001b[0;31mFile:\u001b[0m      ~/Desktop/thunderbird/</home/sangwonl/Desktop/thunderbird/venv/lib/python3.6/site-packages/birdy/client/base.py-3>\n",
       "\u001b[0;31mType:\u001b[0m      method\n"
      ]
     },
     "metadata": {},
     "output_type": "display_data"
    }
   ],
   "source": [
    "# NBVAL_IGNORE_OUTPUT\n",
    "thunderbird.split_merged_climos?"
   ]
  },
  {
   "cell_type": "markdown",
   "metadata": {},
   "source": [
    "#### We can use the docstring to ensure we provide the appropriate parameters."
   ]
  },
  {
   "cell_type": "code",
   "execution_count": 3,
   "metadata": {},
   "outputs": [],
   "source": [
    "# Test local and opendap files\n",
    "tasmax_climos_local = resource_filename('tests', 'data/tiny_downscaled_tasmax_climos.nc')\n",
    "hydromodel_climos_opendap = \"https://docker-dev03.pcic.uvic.ca/twitcher/ows/proxy/thredds/dodsC/datasets/TestData/tiny_hydromodel_gcm_climos.nc\"\n",
    "\n",
    "output = thunderbird.split_merged_climos([tasmax_climos_local, hydromodel_climos_opendap])"
   ]
  },
  {
   "cell_type": "code",
   "execution_count": 4,
   "metadata": {},
   "outputs": [],
   "source": [
    "req = requests.get(output.get()[0])\n",
    "split_filepaths = [out_file.contents[0].strip() for out_file in BeautifulSoup(BeautifulSoup(req.content.decode('utf-8')).prettify()).find_all('metaurl')]"
   ]
  },
  {
   "cell_type": "markdown",
   "metadata": {},
   "source": [
    "#### Once the process has completed we can extract the results and ensure it is what we expected."
   ]
  },
  {
   "cell_type": "code",
   "execution_count": 5,
   "metadata": {},
   "outputs": [],
   "source": [
    "# Helper function copied from test_split_merged_climos.py of ce-dataprep\n",
    "# https://github.com/pacificclimate/climate-explorer-data-prep/blob/master/tests/test_split_merged_climos.py#L13\n",
    "\n",
    "def basename_components(filepath):\n",
    "    \"\"\"Returns the CMOR(ish) components of the basename (filename) of the given filepath.\"\"\"\n",
    "    # Slightly tricky because variable names can contain underscores, which separate components.\n",
    "    # We find the location f of the frequency component in the split and use it to assemble the components properly.\n",
    "    pieces = os.path.basename(filepath).split('_')\n",
    "    f = next(i for i, piece in enumerate(pieces) if 'Clim' in piece)\n",
    "    return ['_'.join(pieces[:f])] + pieces[f:]"
   ]
  },
  {
   "cell_type": "code",
   "execution_count": 6,
   "metadata": {},
   "outputs": [],
   "source": [
    "# Check output filenames\n",
    "\n",
    "assert {basename_components(fp)[0] for fp in split_filepaths} == {'+'.join(sorted(CFDataset(input_file).dependent_varnames())) for input_file in [tasmax_climos_local, hydromodel_climos_opendap]}\n",
    "assert {basename_components(fp)[1] for fp in split_filepaths} == {'mClim', 'sClim', 'aClim'}"
   ]
  },
  {
   "cell_type": "code",
   "execution_count": null,
   "metadata": {},
   "outputs": [],
   "source": []
  }
 ],
 "metadata": {
  "kernelspec": {
   "display_name": "Python 3",
   "language": "python",
   "name": "python3"
  },
  "language_info": {
   "codemirror_mode": {
    "name": "ipython",
    "version": 3
   },
   "file_extension": ".py",
   "mimetype": "text/x-python",
   "name": "python",
   "nbconvert_exporter": "python",
   "pygments_lexer": "ipython3",
   "version": "3.6.9"
  }
 },
 "nbformat": 4,
 "nbformat_minor": 4
}
