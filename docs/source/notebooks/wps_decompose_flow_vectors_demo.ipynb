{
 "cells": [
  {
   "cell_type": "markdown",
   "metadata": {},
   "source": [
    "# wps_decompose_flow_vectors\n",
    "\n",
    "#### wps_decompose_flow_vectors is a process that runs the [decompose_flow_vectors](https://github.com/pacificclimate/climate-explorer-data-prep#decompose_flow_vectors-create-normalized-unit-vector-fields-from-a-vic-routing-file) module of PCIC Climate Explorer Data Preparation Tools. Here, the client will try to connect to a remote Thunderbird instance using the url parameter."
   ]
  },
  {
   "cell_type": "code",
   "execution_count": 1,
   "metadata": {},
   "outputs": [],
   "source": [
    "from birdy import WPSClient\n",
    "from pkg_resources import resource_filename\n",
    "import requests\n",
    "import os\n",
    "from datetime import datetime\n",
    "from wps_tools.utils import copy_http_content\n",
    "from netCDF4 import Dataset\n",
    "from tempfile import NamedTemporaryFile\n",
    "\n",
    "# Ensure we are in the working directory with access to the data\n",
    "while os.path.basename(os.getcwd()) != \"thunderbird\":\n",
    "    os.chdir('../')\n",
    "\n",
    "url = 'https://docker-dev03.pcic.uvic.ca/twitcher/ows/proxy/thunderbird/wps'\n",
    "thunderbird = WPSClient(url)"
   ]
  },
  {
   "cell_type": "markdown",
   "metadata": {},
   "source": [
    "#### Help for individual processes can be diplayed using the ? command (ex. bird.process?)."
   ]
  },
  {
   "cell_type": "code",
   "execution_count": 2,
   "metadata": {},
   "outputs": [
    {
     "data": {
      "text/plain": [
       "\u001b[0;31mSignature:\u001b[0m\n",
       "\u001b[0mthunderbird\u001b[0m\u001b[0;34m.\u001b[0m\u001b[0mdecompose_flow_vectors\u001b[0m\u001b[0;34m(\u001b[0m\u001b[0;34m\u001b[0m\n",
       "\u001b[0;34m\u001b[0m    \u001b[0mnetcdf\u001b[0m\u001b[0;34m,\u001b[0m\u001b[0;34m\u001b[0m\n",
       "\u001b[0;34m\u001b[0m    \u001b[0mvariable\u001b[0m\u001b[0;34m,\u001b[0m\u001b[0;34m\u001b[0m\n",
       "\u001b[0;34m\u001b[0m    \u001b[0mdest_file\u001b[0m\u001b[0;34m=\u001b[0m\u001b[0;32mNone\u001b[0m\u001b[0;34m,\u001b[0m\u001b[0;34m\u001b[0m\n",
       "\u001b[0;34m\u001b[0m    \u001b[0mloglevel\u001b[0m\u001b[0;34m=\u001b[0m\u001b[0;34m'INFO'\u001b[0m\u001b[0;34m,\u001b[0m\u001b[0;34m\u001b[0m\n",
       "\u001b[0;34m\u001b[0m\u001b[0;34m)\u001b[0m\u001b[0;34m\u001b[0m\u001b[0;34m\u001b[0m\u001b[0m\n",
       "\u001b[0;31mDocstring:\u001b[0m\n",
       "Process an indexed flow direction netCDF into a vectored netCDF suitable for ncWMS display\n",
       "\n",
       "Parameters\n",
       "----------\n",
       "netcdf : ComplexData:mimetype:`application/x-netcdf`, :mimetype:`application/x-ogc-dods`\n",
       "    NetCDF file\n",
       "variable : string\n",
       "    netCDF variable describing flow direction\n",
       "dest_file : string\n",
       "    destination netCDF file\n",
       "loglevel : {'CRITICAL', 'ERROR', 'WARNING', 'INFO', 'DEBUG', 'NOTSET'}string\n",
       "    Logging level\n",
       "\n",
       "Returns\n",
       "-------\n",
       "output : ComplexData:mimetype:`application/x-netcdf`\n",
       "    output netCDF file\n",
       "\u001b[0;31mFile:\u001b[0m      ~/Desktop/thunderbird/</home/sangwonl/Desktop/thunderbird/venv/lib/python3.6/site-packages/birdy/client/base.py-4>\n",
       "\u001b[0;31mType:\u001b[0m      method\n"
      ]
     },
     "metadata": {},
     "output_type": "display_data"
    }
   ],
   "source": [
    "# NBVAL_IGNORE_OUTPUT\n",
    "thunderbird.decompose_flow_vectors?"
   ]
  },
  {
   "cell_type": "markdown",
   "metadata": {},
   "source": [
    "#### We can use the docstring to ensure we provide the appropriate parameters."
   ]
  },
  {
   "cell_type": "code",
   "execution_count": 3,
   "metadata": {},
   "outputs": [],
   "source": [
    "flow_vectors_file = \"https://docker-dev03.pcic.uvic.ca/twitcher/ows/proxy/thredds/dodsC/datasets/TestData/sample_flow_parameters.nc\"\n",
    "variable = \"Flow_Direction\"\n",
    "dest_file = \"output.nc\"\n",
    "output = thunderbird.decompose_flow_vectors(netcdf=flow_vectors_file, variable=variable, dest_file=dest_file)"
   ]
  },
  {
   "cell_type": "markdown",
   "metadata": {},
   "source": [
    "#### Once the process has completed we can extract the results and ensure it is what we expected."
   ]
  },
  {
   "cell_type": "code",
   "execution_count": 4,
   "metadata": {},
   "outputs": [],
   "source": [
    "input_data = [\n",
    "    direction\n",
    "    for subarray in Dataset(flow_vectors_file).variables[\"Flow_Direction\"]\n",
    "    for direction in subarray\n",
    "    if direction != \"masked\"\n",
    "]\n",
    "with NamedTemporaryFile(suffix=\".nc\", prefix=\"tmp_copy\", dir=\"/tmp\", delete=True) as tmp_file:\n",
    "    output_data = Dataset(copy_http_content(output.get()[0], tmp_file))\n",
    "    output_eastward =  [\n",
    "        x_magnitude \n",
    "        for subarray in output_data.variables[\"eastward_Flow_Direction\"] \n",
    "        for x_magnitude in subarray \n",
    "        if x_magnitude != \"masked\"\n",
    "    ]\n",
    "    output_northward = [\n",
    "        y_magnitude \n",
    "        for subarray in output_data.variables[\"northward_Flow_Direction\"] \n",
    "        for y_magnitude in subarray \n",
    "        if y_magnitude != \"masked\"\n",
    "    ]"
   ]
  },
  {
   "cell_type": "code",
   "execution_count": 5,
   "metadata": {},
   "outputs": [],
   "source": [
    "# Check if input and output data sizes are matching\n",
    "\n",
    "assert len(input_data) == len(output_eastward)\n",
    "assert len(output_eastward) == len(output_northward)"
   ]
  },
  {
   "cell_type": "code",
   "execution_count": 6,
   "metadata": {},
   "outputs": [],
   "source": [
    "# Check if input and output outlet positions are matching\n",
    "\n",
    "outlets = [i for i in range(len(input_data)) if input_data[i] == 9]\n",
    "\n",
    "# Outlets should have a flow direction of 0\n",
    "eastward_outlets = [output_eastward[i] for i in range(len(input_data)) if i in outlets]\n",
    "northward_outlets = [output_northward[i] for i in range(len(input_data)) if i in outlets]\n",
    "expected_outlets = [0.0 for i in range(len(outlets))]\n",
    "\n",
    "assert eastward_outlets == expected_outlets\n",
    "assert northward_outlets == expected_outlets"
   ]
  }
 ],
 "metadata": {
  "kernelspec": {
   "display_name": "Python 3",
   "language": "python",
   "name": "python3"
  },
  "language_info": {
   "codemirror_mode": {
    "name": "ipython",
    "version": 3
   },
   "file_extension": ".py",
   "mimetype": "text/x-python",
   "name": "python",
   "nbconvert_exporter": "python",
   "pygments_lexer": "ipython3",
   "version": "3.7.7"
  }
 },
 "nbformat": 4,
 "nbformat_minor": 4
}
