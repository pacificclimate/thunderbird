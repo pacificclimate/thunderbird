{
 "cells": [
  {
   "cell_type": "markdown",
   "metadata": {},
   "source": [
    "# wps_update_metadata\n",
    "\n",
    "#### wps_update_metadata is a process that runs the [update_metadata](https://github.com/pacificclimate/climate-explorer-data-prep#update_metadata-update-metadata-in-a-netcdf-file) module of PCIC Climate Explorer Data Preparation Tools. Here, the client will try to connect to a remote Thunderbird instance using the url parameter."
   ]
  },
  {
   "cell_type": "code",
   "execution_count": null,
   "metadata": {},
   "outputs": [],
   "source": [
    "import warnings\n",
    "warnings.filterwarnings(\"ignore\", category=DeprecationWarning) \n",
    "\n",
    "from birdy import WPSClient\n",
    "from pkg_resources import resource_filename\n",
    "import os\n",
    "from wps_tools.utils import copy_http_content\n",
    "from netCDF4 import Dataset\n",
    "from tempfile import NamedTemporaryFile\n",
    "\n",
    "# Ensure we are in the working directory with access to the data\n",
    "while os.path.basename(os.getcwd()) != \"thunderbird\":\n",
    "    os.chdir('../')\n",
    "\n",
    "url = 'https://docker-dev03.pcic.uvic.ca/twitcher/ows/proxy/thunderbird/wps'\n",
    "thunderbird = WPSClient(url)"
   ]
  },
  {
   "cell_type": "markdown",
   "metadata": {},
   "source": [
    "#### Help for individual processes can be diplayed using the ? command (ex. bird.process?)."
   ]
  },
  {
   "cell_type": "code",
   "execution_count": null,
   "metadata": {},
   "outputs": [],
   "source": [
    "# NBVAL_IGNORE_OUTPUT\n",
    "thunderbird.update_metadata?"
   ]
  },
  {
   "cell_type": "markdown",
   "metadata": {},
   "source": [
    "#### We can use the docstring to ensure we provide the appropriate parameters."
   ]
  },
  {
   "cell_type": "code",
   "execution_count": null,
   "metadata": {},
   "outputs": [],
   "source": [
    "# run update_metadata with yaml text and opendap netcdf inputs\n",
    "updates_text = '''\n",
    "global:\n",
    "    - institute_id:\n",
    "    - institute_ID: PCIC\n",
    "    - address: University House 1 \n",
    "    - Institution: <- institution\n",
    "'''\n",
    "opendap_netcdf = \"https://docker-dev03.pcic.uvic.ca/twitcher/ows/proxy/thredds/dodsC/datasets/TestData/gdd_annual_CanESM2_rcp85_r1i1p1_1951-2100.nc\"\n",
    "opendap_output = thunderbird.update_metadata(updates = updates_text, netcdf = opendap_netcdf)"
   ]
  },
  {
   "cell_type": "code",
   "execution_count": null,
   "metadata": {},
   "outputs": [],
   "source": [
    "# run update_metadata with yaml file and local netcdf inputs\n",
    "updates_file = resource_filename('tests', 'metadata-conversion/simple-conversion.yaml')\n",
    "local_netcdf = resource_filename('tests', 'data/gdd_annual_CanESM2_rcp85_r1i1p1_1951-2100.nc')\n",
    "local_output = thunderbird.update_metadata(updates = updates_file, netcdf = local_netcdf)"
   ]
  },
  {
   "cell_type": "markdown",
   "metadata": {},
   "source": [
    "#### Once the process has completed we can extract the results and ensure it is what we expected."
   ]
  },
  {
   "cell_type": "code",
   "execution_count": null,
   "metadata": {},
   "outputs": [],
   "source": [
    "input_data = Dataset(\"https://docker-dev03.pcic.uvic.ca/twitcher/ows/proxy/thredds/dodsC/datasets/TestData/gdd_annual_CanESM2_rcp85_r1i1p1_1951-2100.nc\")\n",
    "\n",
    "# Expected output metadata determined from the input yaml file\n",
    "# global:\n",
    "#     - institute_id:\n",
    "#     - institute_ID: PCIC\n",
    "#     - address: University House 1 \n",
    "#     - Institution: <- institution\n",
    "expected = {\n",
    "    \"institute_ID\": \"PCIC\",\n",
    "    \"address\": \"University House 1\",\n",
    "    \"Institution\": input_data.institution,\n",
    "}"
   ]
  },
  {
   "cell_type": "code",
   "execution_count": null,
   "metadata": {},
   "outputs": [],
   "source": [
    "def test_metadata(output_data):\n",
    "    with NamedTemporaryFile(suffix=\".nc\", prefix=\"tmp_copy\", dir=\"/tmp\", delete=True) as tmp_file:\n",
    "        output_data = Dataset(copy_http_content(output.get()[0], tmp_file))\n",
    "\n",
    "    # updated metadata\n",
    "    metadata = {\n",
    "        \"institute_ID\": output_data.institute_ID,\n",
    "        \"address\": output_data.address,\n",
    "        \"Institution\": output_data.Institution,\n",
    "    }\n",
    "\n",
    "    assert metadata == expected"
   ]
  },
  {
   "cell_type": "code",
   "execution_count": null,
   "metadata": {},
   "outputs": [],
   "source": [
    "test_metadata(opendap_output)\n",
    "test_metadata(local_output)"
   ]
  }
 ],
 "metadata": {
  "kernelspec": {
   "display_name": "Python 3",
   "language": "python",
   "name": "python3"
  },
  "language_info": {
   "codemirror_mode": {
    "name": "ipython",
    "version": 3
   },
   "file_extension": ".py",
   "mimetype": "text/x-python",
   "name": "python",
   "nbconvert_exporter": "python",
   "pygments_lexer": "ipython3",
   "version": "3.7.7"
  }
 },
 "nbformat": 4,
 "nbformat_minor": 4
}
